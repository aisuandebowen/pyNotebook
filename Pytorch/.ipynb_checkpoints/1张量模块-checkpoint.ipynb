{
 "cells": [
  {
   "cell_type": "markdown",
   "id": "987bd388-2136-4f52-bcf0-a26cc7f83c9c",
   "metadata": {},
   "source": [
    "# 1 张量\n",
    "\n",
    "pytorch的数据类型，类似pandas里的Dateframe。是基于标量、向量和矩阵概率的延伸。"
   ]
  },
  {
   "cell_type": "code",
   "execution_count": 1,
   "id": "44682f2a-c979-4a6f-84e2-982532e7d1fe",
   "metadata": {},
   "outputs": [],
   "source": [
    "# 导包\n",
    "import torch\n",
    "import numpy as np"
   ]
  },
  {
   "cell_type": "markdown",
   "id": "94e48727-c147-4298-aec5-ba58eaa68745",
   "metadata": {},
   "source": [
    "## 1.1 数据类型"
   ]
  },
  {
   "cell_type": "markdown",
   "id": "869196db-b52c-4312-a4c8-760125d2e36a",
   "metadata": {},
   "source": [
    "### 1.1.1 创建张量"
   ]
  },
  {
   "cell_type": "code",
   "execution_count": 3,
   "id": "1b731f6b-4596-4ce0-9a85-219000400ff3",
   "metadata": {},
   "outputs": [
    {
     "name": "stdout",
     "output_type": "stream",
     "text": [
      "tensor([[1., 2., 3.],\n",
      "        [4., 5., 6.]])\n"
     ]
    }
   ],
   "source": [
    "arr = np.array([[1,2,3],[4,5,6]])\n",
    "x = torch.Tensor(arr) # # 将 NumPy 数组转换为一个 PyTorch 张量\n",
    "\n",
    "print(x)"
   ]
  },
  {
   "cell_type": "markdown",
   "id": "9ad17405-924d-4adf-87a7-8dd78f296faa",
   "metadata": {},
   "source": [
    "### 1.1.2 创建张量随机数方法"
   ]
  },
  {
   "cell_type": "markdown",
   "id": "0e60d22e-a0f1-44eb-b100-d2ae2862079f",
   "metadata": {},
   "source": [
    "#### torch.rand\n",
    "服从[0,1)的均匀分布"
   ]
  },
  {
   "cell_type": "code",
   "execution_count": 4,
   "id": "754f55e6-d52f-498c-a69b-be969b82cdcd",
   "metadata": {},
   "outputs": [
    {
     "data": {
      "text/plain": [
       "tensor([[0.5067, 0.0992, 0.2738, 0.5640],\n",
       "        [0.8371, 0.4079, 0.1452, 0.8652],\n",
       "        [0.8629, 0.9054, 0.6144, 0.2549]])"
      ]
     },
     "execution_count": 4,
     "metadata": {},
     "output_type": "execute_result"
    }
   ],
   "source": [
    "tensor1 = torch.rand(3,4)\n",
    "tensor1"
   ]
  },
  {
   "cell_type": "markdown",
   "id": "93789e86-9137-446a-8d42-8430c5ecdddb",
   "metadata": {},
   "source": [
    "#### torch.randn()\n",
    "服从均值0，方差1的标准正态分布"
   ]
  },
  {
   "cell_type": "code",
   "execution_count": 5,
   "id": "de2acc7a-625d-43da-9e04-6feff0b08ea3",
   "metadata": {},
   "outputs": [
    {
     "data": {
      "text/plain": [
       "tensor([[-2.3690, -0.6055, -0.5592, -1.6116],\n",
       "        [ 0.4369,  0.2237, -0.7167, -0.1619],\n",
       "        [ 1.4463,  1.3810, -0.3767, -2.4971]])"
      ]
     },
     "execution_count": 5,
     "metadata": {},
     "output_type": "execute_result"
    }
   ],
   "source": [
    "tensor1 = torch.randn(3,4)\n",
    "tensor1"
   ]
  },
  {
   "cell_type": "markdown",
   "id": "3dc14d77-df18-499c-b5ff-129e9a4116af",
   "metadata": {},
   "source": [
    "#### torch.normal(means, std, out=None)"
   ]
  },
  {
   "cell_type": "markdown",
   "id": "56ec4586-d5af-4434-91e6-fdf17bf87385",
   "metadata": {},
   "source": [
    "1. 指定均值方差"
   ]
  },
  {
   "cell_type": "code",
   "execution_count": 10,
   "id": "66d226d4-91b8-48c3-bc26-cf115fe7bf23",
   "metadata": {},
   "outputs": [
    {
     "data": {
      "text/plain": [
       "tensor([ 1.0000,  1.8565,  3.0861,  3.9785,  4.5556,  5.7291,  8.1138,  7.8268,\n",
       "         8.4596, 10.6865])"
      ]
     },
     "execution_count": 10,
     "metadata": {},
     "output_type": "execute_result"
    }
   ],
   "source": [
    "tensor1 = torch.normal(mean=torch.arange(1.,11.), std=torch.arange(0, 1, 0.1))\n",
    "tensor1"
   ]
  },
  {
   "cell_type": "markdown",
   "id": "40945c21-69f6-4ef0-b807-8bd57e788eb2",
   "metadata": {},
   "source": [
    "2. 共享均值方差"
   ]
  },
  {
   "cell_type": "code",
   "execution_count": 16,
   "id": "2a6c4ad1-70ab-4c05-8924-0d483e208067",
   "metadata": {},
   "outputs": [
    {
     "data": {
      "text/plain": [
       "tensor([[ 0.1712, -1.1595,  0.5119],\n",
       "        [-1.4520,  3.6885,  0.8588],\n",
       "        [ 0.2594,  0.7861,  1.2009],\n",
       "        [ 0.8792,  0.4400,  3.5033],\n",
       "        [ 0.8518, -0.6514,  0.8435],\n",
       "        [-4.5127,  1.6560,  1.8358],\n",
       "        [ 1.0980, -0.0322,  4.6615],\n",
       "        [ 0.2322, -3.3426,  5.0285],\n",
       "        [-0.7733, -2.5316,  1.9540],\n",
       "        [ 0.6214,  1.1227,  3.3353]])"
      ]
     },
     "execution_count": 16,
     "metadata": {},
     "output_type": "execute_result"
    }
   ],
   "source": [
    "tensor1 = torch.normal(mean=10, std=torch.arange(0,1,0.1))\n",
    "tensor1\n",
    "\n",
    "tensor2 = torch.normal(1,2,size=(10,3))\n",
    "tensor2"
   ]
  },
  {
   "cell_type": "markdown",
   "id": "b1f7eb52-771c-4b2c-9e55-f336db1b156d",
   "metadata": {},
   "source": [
    "#### torch.linspace(start,end,steps)\n",
    "注意：steps是产生的数量，**不是步长**！！！"
   ]
  },
  {
   "cell_type": "code",
   "execution_count": 21,
   "id": "eaa91774-a77e-4cce-b334-be9eeca3ce28",
   "metadata": {},
   "outputs": [
    {
     "data": {
      "text/plain": [
       "tensor([ 1.0000,  5.5000, 10.0000])"
      ]
     },
     "execution_count": 21,
     "metadata": {},
     "output_type": "execute_result"
    }
   ],
   "source": [
    "tensor1 = torch.linspace(1,10,steps=3)\n",
    "tensor1"
   ]
  },
  {
   "cell_type": "markdown",
   "id": "5f5c9201-9a4f-4ca8-a9a1-1d9d5f68dbf8",
   "metadata": {},
   "source": [
    "#### torch.arange(start=0, end, step=1)"
   ]
  },
  {
   "cell_type": "code",
   "execution_count": 6,
   "id": "fdc2b30d-3d6e-4181-af31-5a5889a973b4",
   "metadata": {},
   "outputs": [
    {
     "data": {
      "text/plain": [
       "tensor([0, 3, 6, 9])"
      ]
     },
     "execution_count": 6,
     "metadata": {},
     "output_type": "execute_result"
    }
   ],
   "source": [
    "tensor1 = torch.arange(start=0, end=10, step=3)\n",
    "tensor1"
   ]
  },
  {
   "cell_type": "markdown",
   "id": "6639118a-24b1-4da2-82ec-19268c1f77d9",
   "metadata": {},
   "source": [
    "#### torch.manual_seed()\n",
    "固定随机种子，仅用于最接近的随机数产生语句。"
   ]
  },
  {
   "cell_type": "code",
   "execution_count": 33,
   "id": "fdf442a3-e4e7-45d7-8171-f20bee6484dd",
   "metadata": {},
   "outputs": [
    {
     "name": "stdout",
     "output_type": "stream",
     "text": [
      "tensor([0.0043, 0.1056])\n",
      "tensor([0.0043, 0.1056])\n"
     ]
    }
   ],
   "source": [
    "torch.manual_seed(3)\n",
    "num1 = torch.rand(2)\n",
    "print(num1)\n",
    "\n",
    "torch.manual_seed(3)\n",
    "num2 = torch.rand(2)\n",
    "print(num2)"
   ]
  },
  {
   "cell_type": "markdown",
   "id": "940aea93-c829-4cca-a962-92c455e3ea92",
   "metadata": {},
   "source": [
    "#### ones() \n",
    "全1数组\n",
    "#### zeros()\n",
    "全0数组\n",
    "#### eye()\n",
    "对角线全1"
   ]
  },
  {
   "cell_type": "code",
   "execution_count": 35,
   "id": "b9332430-8f6d-4644-b880-5a138b23d67e",
   "metadata": {},
   "outputs": [
    {
     "data": {
      "text/plain": [
       "tensor([[1., 0., 0.],\n",
       "        [0., 1., 0.],\n",
       "        [0., 0., 1.],\n",
       "        [0., 0., 0.]])"
      ]
     },
     "execution_count": 35,
     "metadata": {},
     "output_type": "execute_result"
    }
   ],
   "source": [
    "tensor1 = torch.eye(4,3)\n",
    "\n",
    "tensor1"
   ]
  },
  {
   "cell_type": "markdown",
   "id": "29584b54-817c-4a26-a285-e8e52fefefb1",
   "metadata": {},
   "source": [
    "### 1.1.3 数据类型的转换"
   ]
  },
  {
   "cell_type": "markdown",
   "id": "619d3775-507f-44f6-927f-522a1e42ec9a",
   "metadata": {},
   "source": [
    "+ 创建时指定"
   ]
  },
  {
   "cell_type": "code",
   "execution_count": 41,
   "id": "11f15b91-8dc3-4750-8cc8-53d3f4a29cf2",
   "metadata": {},
   "outputs": [
    {
     "data": {
      "text/plain": [
       "tensor([[[1, 1, 1, 1, 1, 1]],\n",
       "\n",
       "        [[1, 1, 1, 1, 1, 1]],\n",
       "\n",
       "        [[1, 1, 1, 1, 1, 1]]])"
      ]
     },
     "execution_count": 41,
     "metadata": {},
     "output_type": "execute_result"
    }
   ],
   "source": [
    "tensor1 = torch.ones((3,1,6), dtype=torch.int64)\n",
    "tensor1"
   ]
  },
  {
   "cell_type": "markdown",
   "id": "9b9ce02c-fef5-4867-ba64-2b6ca749cc3e",
   "metadata": {},
   "source": [
    "+ 创建完再指定"
   ]
  },
  {
   "cell_type": "code",
   "execution_count": 40,
   "id": "078ddd9d-7f0d-4261-a981-c0213b00f2b3",
   "metadata": {},
   "outputs": [
    {
     "data": {
      "text/plain": [
       "tensor([[[1., 1., 1., 1., 1., 1.]],\n",
       "\n",
       "        [[1., 1., 1., 1., 1., 1.]],\n",
       "\n",
       "        [[1., 1., 1., 1., 1., 1.]]])"
      ]
     },
     "execution_count": 40,
     "metadata": {},
     "output_type": "execute_result"
    }
   ],
   "source": [
    "tensor1 = torch.ones((3,1,6))\n",
    "tensor1.type(torch.float64)\n",
    "tensor1"
   ]
  },
  {
   "cell_type": "markdown",
   "id": "ca61a34f-958b-40ba-9d85-9a7386a5c820",
   "metadata": {},
   "source": [
    "## 1.2 基本操作"
   ]
  },
  {
   "cell_type": "markdown",
   "id": "cad75769-aafc-42a9-9604-a864a1f8bc53",
   "metadata": {},
   "source": [
    "### 1.2.1 改变形状 view"
   ]
  },
  {
   "cell_type": "code",
   "execution_count": 45,
   "id": "6ee1564d-34c4-4728-81a0-4d7b3b02545a",
   "metadata": {},
   "outputs": [
    {
     "name": "stdout",
     "output_type": "stream",
     "text": [
      "tensor([[0.6483, 0.2148],\n",
      "        [0.9493, 0.0121],\n",
      "        [0.1809, 0.1877]])\n",
      "tensor([[0.6483, 0.2148, 0.9493],\n",
      "        [0.0121, 0.1809, 0.1877]])\n"
     ]
    }
   ],
   "source": [
    "x = torch.rand(3,2)\n",
    "print(x)\n",
    "\n",
    "y = x.view(2,3)\n",
    "print(y)"
   ]
  },
  {
   "cell_type": "markdown",
   "id": "7dab432a-c6c5-4f82-9333-4a8eb33592a2",
   "metadata": {},
   "source": [
    "### 1.2.2 增加删除维度"
   ]
  },
  {
   "cell_type": "markdown",
   "id": "ee466135-0d4b-477a-b061-3ba42ada8bfb",
   "metadata": {},
   "source": [
    "+ 增加维度 unsqueeze\n",
    "\n",
    "它是按索引位添加维度，比如0即是在第0位添加一个维度。"
   ]
  },
  {
   "cell_type": "code",
   "execution_count": 89,
   "id": "4d320de8-0e9c-4426-b772-d72a95a73c85",
   "metadata": {},
   "outputs": [
    {
     "name": "stdout",
     "output_type": "stream",
     "text": [
      "torch.Size([3, 4])\n",
      "torch.Size([1, 3, 4])\n",
      "torch.Size([1, 1, 3, 4])\n"
     ]
    }
   ],
   "source": [
    "a = torch.rand(3,4)\n",
    "b = torch.unsqueeze(a,0)\n",
    "c = b.unsqueeze(0)\n",
    "print(a.shape)\n",
    "print(b.shape)\n",
    "print(c.shape)"
   ]
  },
  {
   "cell_type": "markdown",
   "id": "74c1ec86-6b06-4808-a6c7-da68eb7f5843",
   "metadata": {},
   "source": [
    "+ 删除维度 squeeze(input, dim)\n",
    "\n",
    "  只 在 tensor.shape[dim] == 1 时，才会删除那个维度。"
   ]
  },
  {
   "cell_type": "code",
   "execution_count": 90,
   "id": "dfeb6ff0-2ae7-43b7-8a1f-033e484916bf",
   "metadata": {},
   "outputs": [
    {
     "name": "stdout",
     "output_type": "stream",
     "text": [
      "torch.Size([1, 2, 3, 4])\n",
      "torch.Size([2, 3, 4])\n",
      "torch.Size([2, 3, 4])\n"
     ]
    }
   ],
   "source": [
    "a = torch.rand(1,2,3,4)\n",
    "b = torch.squeeze(a,0)\n",
    "c = b.squeeze()\n",
    "print(a.shape)\n",
    "print(b.shape)\n",
    "print(c.shape)"
   ]
  },
  {
   "cell_type": "markdown",
   "id": "dff1461c-597b-4cc4-8860-b81d9d191381",
   "metadata": {},
   "source": [
    "### 1.2.3 交换维度 permute\n",
    "\n",
    "或者transpose()"
   ]
  },
  {
   "cell_type": "code",
   "execution_count": 93,
   "id": "e6ae0380-eda8-4e2a-aee0-347b1a12cb08",
   "metadata": {},
   "outputs": [
    {
     "name": "stdout",
     "output_type": "stream",
     "text": [
      "tensor([[[0.8536, 0.0303],\n",
      "         [0.7106, 0.5128],\n",
      "         [0.9775, 0.8324]],\n",
      "\n",
      "        [[0.2388, 0.3827],\n",
      "         [0.8727, 0.2676],\n",
      "         [0.6810, 0.0939]]])\n",
      "tensor([[[0.8536, 0.0303],\n",
      "         [0.2388, 0.3827]],\n",
      "\n",
      "        [[0.7106, 0.5128],\n",
      "         [0.8727, 0.2676]],\n",
      "\n",
      "        [[0.9775, 0.8324],\n",
      "         [0.6810, 0.0939]]])\n"
     ]
    }
   ],
   "source": [
    "tensor1 = torch.rand(2,3,2)\n",
    "print(tensor1)\n",
    "\n",
    "tensor2 = tensor1.permute(1,0,2)\n",
    "print(tensor2)"
   ]
  },
  {
   "cell_type": "markdown",
   "id": "fb72a684-972c-4e91-862d-afcc3d4d6664",
   "metadata": {},
   "source": [
    "### 1.2.4 拼接、分割\n",
    "+ 拼接\n",
    "\n",
    "  不会增加维度"
   ]
  },
  {
   "cell_type": "code",
   "execution_count": 112,
   "id": "8dcd24b1-dc93-4ea1-9240-23b299830af1",
   "metadata": {},
   "outputs": [
    {
     "name": "stdout",
     "output_type": "stream",
     "text": [
      "tensor([[[0.7706],\n",
      "         [0.6560]]])\n",
      "res1:tensor([[[0.7706],\n",
      "         [0.6560]],\n",
      "\n",
      "        [[0.0419],\n",
      "         [0.5257]],\n",
      "\n",
      "        [[0.7046],\n",
      "         [0.1369]]])\n",
      ", res2:tensor([[[0.7706],\n",
      "         [0.6560],\n",
      "         [0.0419],\n",
      "         [0.5257],\n",
      "         [0.7046],\n",
      "         [0.1369]]])\n"
     ]
    }
   ],
   "source": [
    "a = torch.rand(1,2,1)\n",
    "b = torch.rand(1,2,1)\n",
    "c = torch.rand(1,2,1)\n",
    "print(a)\n",
    "res1 = torch.cat([a,b,c],dim = 0)\n",
    "res2 = torch.cat([a,b,c],dim = 1)\n",
    "print(f'res1:{res1}\\n, res2:{res2}')"
   ]
  },
  {
   "cell_type": "markdown",
   "id": "0628e035-0beb-4f08-a8cd-9705eae30008",
   "metadata": {},
   "source": [
    "+ 分割 split\n",
    "\n",
    "分割是分成num块，按dim=0"
   ]
  },
  {
   "cell_type": "code",
   "execution_count": 118,
   "id": "f365b1a0-a739-4e3c-a2d2-173fa0b07583",
   "metadata": {},
   "outputs": [
    {
     "name": "stdout",
     "output_type": "stream",
     "text": [
      "tensor([[0.8660, 0.0405, 0.9147, 0.8523],\n",
      "        [0.9055, 0.3671, 0.6700, 0.6978],\n",
      "        [0.3117, 0.5756, 0.7466, 0.8590]])\n",
      "(tensor([[0.8660, 0.0405, 0.9147, 0.8523],\n",
      "        [0.9055, 0.3671, 0.6700, 0.6978]]), tensor([[0.3117, 0.5756, 0.7466, 0.8590]]))\n"
     ]
    }
   ],
   "source": [
    "tensor1 = torch.rand(3,4)\n",
    "res1 = torch.split(tensor1, 2)\n",
    "\n",
    "print(tensor1)\n",
    "\n",
    "print(res1)"
   ]
  },
  {
   "cell_type": "markdown",
   "id": "7d8c9ef8-99e0-45cd-92f6-ca64e3e0db3e",
   "metadata": {},
   "source": [
    "### 1.2.5 堆叠和分解\n",
    "+ 堆叠 stack()\n",
    "\n",
    "  会增加维度"
   ]
  },
  {
   "cell_type": "code",
   "execution_count": 119,
   "id": "d4efa86b-376f-4b58-9c26-4acc2dc05295",
   "metadata": {},
   "outputs": [
    {
     "name": "stdout",
     "output_type": "stream",
     "text": [
      "tensor([[[0.9387, 0.2398]],\n",
      "\n",
      "        [[0.4198, 0.6112]],\n",
      "\n",
      "        [[0.5861, 0.3208]]])\n"
     ]
    }
   ],
   "source": [
    "a = torch.rand(1,2)\n",
    "b = torch.rand(1,2)\n",
    "c = torch.rand(1,2)\n",
    "\n",
    "res1 = torch.stack([a,b,c], dim=0)"
   ]
  },
  {
   "cell_type": "markdown",
   "id": "af933d25-2718-433f-9a11-e0a34a51348b",
   "metadata": {},
   "source": [
    "+ 分解 chunk()"
   ]
  },
  {
   "cell_type": "code",
   "execution_count": 123,
   "id": "e849f3a4-c373-4dd4-b662-1ff07fb64de1",
   "metadata": {},
   "outputs": [
    {
     "data": {
      "text/plain": [
       "(tensor([[0.6000, 0.4391, 0.8994, 0.0217],\n",
       "         [0.6418, 0.5846, 0.6675, 0.0933]]),\n",
       " tensor([[0.3516, 0.1336, 0.7224, 0.6623]]))"
      ]
     },
     "execution_count": 123,
     "metadata": {},
     "output_type": "execute_result"
    }
   ],
   "source": [
    "a = torch.rand(3,4)\n",
    "res1 = torch.chunk(a, 2, dim=0)\n",
    "res1"
   ]
  },
  {
   "cell_type": "markdown",
   "id": "9f28742b-1c33-4b32-9049-711bf25f3601",
   "metadata": {},
   "source": [
    "### 1.2.6 索引和切片\n"
   ]
  },
  {
   "cell_type": "code",
   "execution_count": 125,
   "id": "675c1b68-d48c-457a-b97a-139d9ae4bfdc",
   "metadata": {},
   "outputs": [
    {
     "name": "stdout",
     "output_type": "stream",
     "text": [
      "torch.Size([2, 2, 4])\n"
     ]
    }
   ],
   "source": [
    "a = torch.rand(2,3,4)\n",
    "\n",
    "x = a[:,:2,:]\n",
    "print(x.shape)"
   ]
  },
  {
   "cell_type": "markdown",
   "id": "fa6050f9-0b56-4e0c-bbc9-d229968e2b8a",
   "metadata": {},
   "source": [
    "### 1.2.7 基本数学运算"
   ]
  },
  {
   "cell_type": "markdown",
   "id": "aad07899-d328-4781-bcff-0f0fa1ea67a3",
   "metadata": {},
   "source": [
    "#### 求和 sum"
   ]
  },
  {
   "cell_type": "markdown",
   "id": "7c7f44ea-9bf8-4f8f-8b96-4b7b354af350",
   "metadata": {},
   "source": [
    "+ 所有元素加起来"
   ]
  },
  {
   "cell_type": "code",
   "execution_count": 126,
   "id": "1953d8f6-a27f-4939-b1fc-a7347e34f981",
   "metadata": {},
   "outputs": [
    {
     "data": {
      "text/plain": [
       "tensor(3.6691)"
      ]
     },
     "execution_count": 126,
     "metadata": {},
     "output_type": "execute_result"
    }
   ],
   "source": [
    "a = torch.rand(2,3)\n",
    "res = torch.sum(a)\n",
    "res"
   ]
  },
  {
   "cell_type": "markdown",
   "id": "0a056199-be2d-4ebe-a095-c86bdf5b885b",
   "metadata": {},
   "source": [
    "+ 指定维度  torch.sum(input,dim,keepdim=True)\n",
    "\n",
    "  keepdim：保证维度不变"
   ]
  },
  {
   "cell_type": "code",
   "execution_count": 128,
   "id": "d000f06b-808e-4849-bf34-6c12fa89ea03",
   "metadata": {},
   "outputs": [
    {
     "name": "stdout",
     "output_type": "stream",
     "text": [
      "tensor([[0.6204, 0.4698, 0.9045],\n",
      "        [0.9678, 0.6092, 0.5209]])\n",
      "tensor([[1.9946],\n",
      "        [2.0979]])\n"
     ]
    }
   ],
   "source": [
    "a = torch.rand(2,3)\n",
    "print(a)\n",
    "res = torch.sum(a,dim=1,keepdim=True)\n",
    "print(res)"
   ]
  },
  {
   "cell_type": "markdown",
   "id": "6720ea43-3061-4a43-9cf4-3dce137eb00a",
   "metadata": {},
   "source": [
    "+ 按索引求和\n",
    "\n",
    "  torch.Tensor.index_add(dim,index,tensor)"
   ]
  },
  {
   "cell_type": "code",
   "execution_count": 132,
   "id": "cae3261e-6fd9-4cbb-acd2-7339ddf8441a",
   "metadata": {},
   "outputs": [
    {
     "name": "stdout",
     "output_type": "stream",
     "text": [
      "tensor([[1., 3.],\n",
      "        [5., 7.]])\n"
     ]
    }
   ],
   "source": [
    "arr1 = torch.Tensor([[1,2],[3,4]])\n",
    "arr2 = torch.Tensor([[0,1],[2,3]])\n",
    "\n",
    "index = torch.LongTensor([0,1])\n",
    "res = arr1.index_add(0,index,arr2)\n",
    "\n",
    "print(res)"
   ]
  },
  {
   "cell_type": "markdown",
   "id": "bb152e84-9310-44b6-8aa0-543e383f3d4d",
   "metadata": {},
   "source": [
    "#### 乘积 prod\n",
    "torch.prod(input,dim,keepdim=True)()"
   ]
  },
  {
   "cell_type": "markdown",
   "id": "3bea677c-7a55-467e-8db4-bc11891bae0f",
   "metadata": {},
   "source": [
    "#### 平均数 mean\n",
    "方法同求和"
   ]
  },
  {
   "cell_type": "markdown",
   "id": "f090ec8d-36de-4878-bf57-2a1c01684129",
   "metadata": {},
   "source": [
    "#### 方差 var\n",
    "方法同求和"
   ]
  },
  {
   "cell_type": "markdown",
   "id": "ea7bc31d-8334-49cc-a84d-bd45be665220",
   "metadata": {},
   "source": [
    "#### 最值 max、min\n",
    "方法同求和"
   ]
  },
  {
   "cell_type": "markdown",
   "id": "c4965d82-08e7-4721-a27c-5bad391a9971",
   "metadata": {},
   "source": [
    "### 1.2.8 向量运算"
   ]
  },
  {
   "cell_type": "markdown",
   "id": "00640185-9307-4f2d-9186-76e28630a6d8",
   "metadata": {},
   "source": [
    "#### 点乘 dot"
   ]
  },
  {
   "cell_type": "code",
   "execution_count": 138,
   "id": "838fd457-1b77-46d1-bc52-621e9aaa8b8f",
   "metadata": {},
   "outputs": [
    {
     "name": "stdout",
     "output_type": "stream",
     "text": [
      "tensor(6.)\n"
     ]
    }
   ],
   "source": [
    "a = torch.Tensor([1,2,3])\n",
    "b = torch.Tensor([1,1,1])\n",
    "\n",
    "res = torch.dot(a,b)\n",
    "print(res) # 等价于 1*1+2*1+3*1"
   ]
  },
  {
   "cell_type": "markdown",
   "id": "8c3c1db2-c183-4cdd-91fc-c1b20a64678f",
   "metadata": {},
   "source": [
    "#### 叉乘 multiply\n",
    "逐元素乘法"
   ]
  },
  {
   "cell_type": "code",
   "execution_count": 137,
   "id": "49631f4a-8e7b-4673-ac6c-ae5eceb7d692",
   "metadata": {},
   "outputs": [
    {
     "name": "stdout",
     "output_type": "stream",
     "text": [
      "tensor([1., 2., 3.])\n"
     ]
    }
   ],
   "source": [
    "a = torch.Tensor([1,2,3])\n",
    "b = torch.Tensor([1,1,1])\n",
    "\n",
    "res = torch.multiply(a,b)\n",
    "print(res) # 等价于 1*1 2*1 3*1"
   ]
  },
  {
   "cell_type": "markdown",
   "id": "d5a22dbd-e6e0-4726-92af-ed357313a883",
   "metadata": {},
   "source": [
    "### 1.2.9 矩阵运算"
   ]
  },
  {
   "cell_type": "markdown",
   "id": "c7f971c6-42f1-4d01-b7bd-9ff2fd0eedcc",
   "metadata": {},
   "source": [
    "#### 内积 inner\n",
    "\n",
    "对两个张量的“最后一维”做内积"
   ]
  },
  {
   "cell_type": "code",
   "execution_count": 142,
   "id": "5b4b57c5-e2cd-44b7-8648-f6633c6d3d3e",
   "metadata": {},
   "outputs": [
    {
     "name": "stdout",
     "output_type": "stream",
     "text": [
      "tensor([[1., 1.],\n",
      "        [1., 1.]])\n",
      "tensor([[2., 3.],\n",
      "        [4., 5.]])\n",
      "tensor([[5., 9.],\n",
      "        [5., 9.]])\n"
     ]
    }
   ],
   "source": [
    "a = torch.ones(2,2)\n",
    "b = torch.Tensor([[2,3],[4,5]])\n",
    "print(a)\n",
    "print(b)\n",
    "res = torch.inner(a,b)\n",
    "print(res)\n",
    "# res[i, j] 就是对 a[i, :] 和 b[j, :] 做内积"
   ]
  },
  {
   "cell_type": "markdown",
   "id": "309e1120-71b2-4799-93d7-41b3c7595153",
   "metadata": {},
   "source": [
    "#### 外积 matmul\n",
    "线代的矩阵乘积"
   ]
  },
  {
   "cell_type": "code",
   "execution_count": 143,
   "id": "b7f357a8-d638-4738-b8ab-47c90cac2ad1",
   "metadata": {},
   "outputs": [
    {
     "name": "stdout",
     "output_type": "stream",
     "text": [
      "tensor([[1., 1.],\n",
      "        [1., 1.]])\n",
      "tensor([[2., 3.],\n",
      "        [4., 5.]])\n",
      "tensor([[6., 8.],\n",
      "        [6., 8.]])\n"
     ]
    }
   ],
   "source": [
    "a = torch.ones(2,2)\n",
    "b = torch.Tensor([[2,3],[4,5]])\n",
    "print(a)\n",
    "print(b)\n",
    "res = torch.matmul(a,b)\n",
    "print(res)\n",
    "# res[i, j] 就是对 a[i, :] 和 b[j, :] 做内积"
   ]
  },
  {
   "cell_type": "markdown",
   "id": "9511000a-61b7-4574-a729-913fbbc3873d",
   "metadata": {},
   "source": [
    "## 1.3 张量与Numpy"
   ]
  },
  {
   "cell_type": "markdown",
   "id": "4cabbdf1-f463-4582-ad7d-cfb33b042cf8",
   "metadata": {},
   "source": [
    "### 1.3.1 张量转Numpy\n",
    "numpy() 二者会共享内存"
   ]
  },
  {
   "cell_type": "code",
   "execution_count": 145,
   "id": "7961365f-b740-4184-82c2-720c434562b9",
   "metadata": {},
   "outputs": [
    {
     "name": "stdout",
     "output_type": "stream",
     "text": [
      "[[1. 1. 1.]\n",
      " [1. 1. 1.]\n",
      " [1. 1. 1.]]\n"
     ]
    }
   ],
   "source": [
    "tensor1 = torch.ones(3,3)\n",
    "arr = tensor1.numpy()\n",
    "\n",
    "print(arr)"
   ]
  },
  {
   "cell_type": "markdown",
   "id": "e3fecd97-7c72-46e6-b2c3-cb75c3d0cb3d",
   "metadata": {},
   "source": [
    "### 1.3.2 Numpy转张量\n",
    "+ torch.Tensor(arr)\n",
    "  \n",
    "  会 复制 一份数据，创建新的张量，和原 NumPy 数组无关。\n",
    "+ torch.from_numpy(arr)\n",
    "\n",
    "  不会复制，新建的张量和原 NumPy 数组 共享内存，修改其中一个，另一个也跟着变。"
   ]
  },
  {
   "cell_type": "markdown",
   "id": "3458d979-bc94-43af-8dac-2365f1ddd86d",
   "metadata": {},
   "source": [
    "## 1.4 Cuda张量与CPU张量"
   ]
  },
  {
   "cell_type": "markdown",
   "id": "6699f7ec-a799-4b90-ab61-5c32d4d5a86f",
   "metadata": {},
   "source": [
    "+ 转为CPU"
   ]
  },
  {
   "cell_type": "code",
   "execution_count": 4,
   "id": "39cc7fed-20f2-483a-824c-30fc19063a40",
   "metadata": {},
   "outputs": [
    {
     "name": "stdout",
     "output_type": "stream",
     "text": [
      "cpu\n"
     ]
    }
   ],
   "source": [
    "tensor1 = torch.rand(2,3)\n",
    "tensor = tensor1.cpu() # 默认是cpu，如果是Cuda可以转\n",
    "\n",
    "print(tensor.device)"
   ]
  },
  {
   "cell_type": "markdown",
   "id": "b942ce0f-2f84-4ca9-bd2f-6098133afeb3",
   "metadata": {},
   "source": [
    "+ 转为Cuda\n",
    "\n",
    "方法1："
   ]
  },
  {
   "cell_type": "code",
   "execution_count": 5,
   "id": "17f67f74-0cf7-45be-86cb-5fe5e72c5a8e",
   "metadata": {},
   "outputs": [
    {
     "name": "stdout",
     "output_type": "stream",
     "text": [
      "cuda:0\n"
     ]
    }
   ],
   "source": [
    "tensor1 = torch.rand(2,3)\n",
    "tensor = tensor1.cuda()\n",
    "\n",
    "print(tensor.device)"
   ]
  },
  {
   "cell_type": "markdown",
   "id": "2b4382d0-3689-4620-8f88-581f227b5478",
   "metadata": {},
   "source": [
    "方法2："
   ]
  },
  {
   "cell_type": "code",
   "execution_count": 11,
   "id": "6b50c0ac-e48a-4cd7-af7a-f3b4a34aca77",
   "metadata": {},
   "outputs": [
    {
     "name": "stdout",
     "output_type": "stream",
     "text": [
      "cuda\n"
     ]
    }
   ],
   "source": [
    "x = torch.rand(3,3)\n",
    "device = torch.device('cuda' if torch.cuda.is_available() else 'cpu')\n",
    "if torch.cuda.is_available():\n",
    "    x = x.to(device)\n",
    "    print(device)"
   ]
  }
 ],
 "metadata": {
  "kernelspec": {
   "display_name": "Python [conda env:ptG38]",
   "language": "python",
   "name": "conda-env-ptG38-py"
  },
  "language_info": {
   "codemirror_mode": {
    "name": "ipython",
    "version": 3
   },
   "file_extension": ".py",
   "mimetype": "text/x-python",
   "name": "python",
   "nbconvert_exporter": "python",
   "pygments_lexer": "ipython3",
   "version": "3.8.20"
  }
 },
 "nbformat": 4,
 "nbformat_minor": 5
}
