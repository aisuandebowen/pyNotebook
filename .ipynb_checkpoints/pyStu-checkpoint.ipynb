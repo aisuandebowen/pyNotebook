{
 "cells": [
  {
   "cell_type": "code",
   "execution_count": 1,
   "id": "cf5c6932-4be3-4d1e-a816-25358ed47862",
   "metadata": {},
   "outputs": [],
   "source": [
    "# 导入模块\n",
    "import numpy as np\n",
    "import pandas as pd\n",
    "from scipy import optimize\n",
    "import matplotlib.pyplot as plt"
   ]
  },
  {
   "cell_type": "markdown",
   "id": "51c6fe81-fef3-4079-80da-b0f9b3d203e8",
   "metadata": {},
   "source": [
    "# 一、 数据类型"
   ]
  },
  {
   "cell_type": "markdown",
   "id": "675086da-bd07-4f14-b3bb-0e32a14df47a",
   "metadata": {},
   "source": [
    "## 1.1 列表"
   ]
  },
  {
   "cell_type": "markdown",
   "id": "f426aa12-0e91-4c50-8af5-520febf3c47d",
   "metadata": {},
   "source": [
    "### 1.1.1 基础"
   ]
  },
  {
   "cell_type": "code",
   "execution_count": 2,
   "id": "62ef6c5f-0b34-4504-8cef-0c10b253e296",
   "metadata": {},
   "outputs": [
    {
     "name": "stdout",
     "output_type": "stream",
     "text": [
      "[111]\n",
      "[3, 4]\n",
      "[111, 3, '你', '好']\n",
      "[111, 3, 999, '你', '好']\n"
     ]
    }
   ],
   "source": [
    "list = ['1',2,3,4]\n",
    "list[0] = 111\n",
    "del list[1]\n",
    "print(list[0:1])  # 左闭右开\n",
    "print(list[1:])\n",
    "list[2:] = ['你','好']\n",
    "print(list)\n",
    "list[2:2] = [999] # 插入\n",
    "print(list)"
   ]
  },
  {
   "cell_type": "markdown",
   "id": "03758224-287b-4b09-8303-4bff173c71f7",
   "metadata": {},
   "source": [
    "### 1.1.2 常用方法"
   ]
  },
  {
   "cell_type": "markdown",
   "id": "e74433c8-f687-4232-b8ec-0fc8320786c2",
   "metadata": {},
   "source": [
    "#### 添加 append"
   ]
  },
  {
   "cell_type": "code",
   "execution_count": 3,
   "id": "90e05f6a-6ccf-4ad3-acb3-872d205a05d7",
   "metadata": {},
   "outputs": [
    {
     "name": "stdout",
     "output_type": "stream",
     "text": [
      "[1, 2, 3, 4, 5, 111]\n"
     ]
    }
   ],
   "source": [
    "list = [1,2,3,4,5]\n",
    "box = 111\n",
    "list.append(box)\n",
    "print(list)"
   ]
  },
  {
   "cell_type": "markdown",
   "id": "c27d886b-fc87-4bd1-9fb6-0abf28896c99",
   "metadata": {},
   "source": [
    "#### 清空 clear"
   ]
  },
  {
   "cell_type": "code",
   "execution_count": 4,
   "id": "2e651a8c-df6b-4afc-98ee-5d9985251c86",
   "metadata": {},
   "outputs": [
    {
     "name": "stdout",
     "output_type": "stream",
     "text": [
      "[]\n"
     ]
    }
   ],
   "source": [
    "list = [1,2,3,4,5]\n",
    "list.clear()\n",
    "print(list)"
   ]
  },
  {
   "cell_type": "markdown",
   "id": "a8fa18e0-6345-40a0-b214-a99c60e8d314",
   "metadata": {},
   "source": [
    "#### 计数 count（某元素出现次数）"
   ]
  },
  {
   "cell_type": "code",
   "execution_count": 5,
   "id": "fc684b72-1b02-4a54-8ef5-6511db50bde7",
   "metadata": {},
   "outputs": [
    {
     "name": "stdout",
     "output_type": "stream",
     "text": [
      "5\n"
     ]
    }
   ],
   "source": [
    "list = [1,2,3,4,5,5,5,5,5]\n",
    "num = list.count(5)\n",
    "print(num)"
   ]
  },
  {
   "cell_type": "markdown",
   "id": "b078cb6b-e21d-49d7-8b7d-c18f330e59c3",
   "metadata": {},
   "source": [
    "#### 扩展 extend"
   ]
  },
  {
   "cell_type": "code",
   "execution_count": 6,
   "id": "6606b21c-e0ff-4c64-b811-f255194d64c6",
   "metadata": {},
   "outputs": [
    {
     "name": "stdout",
     "output_type": "stream",
     "text": [
      "['你好', 'Python']\n"
     ]
    }
   ],
   "source": [
    "list1 = ['你好']\n",
    "list2 = ['Python']\n",
    "list1.extend(list2)\n",
    "print(list1)"
   ]
  },
  {
   "cell_type": "markdown",
   "id": "583cbb55-7022-42f1-9db3-625a8af1bb17",
   "metadata": {},
   "source": [
    "#### 查找 index"
   ]
  },
  {
   "cell_type": "code",
   "execution_count": 7,
   "id": "1bc26c06-ac7a-4396-8bf2-ae709d7c636a",
   "metadata": {},
   "outputs": [
    {
     "name": "stdout",
     "output_type": "stream",
     "text": [
      "1\n"
     ]
    }
   ],
   "source": [
    "list = ['Python', 'Token', 'Java']\n",
    "index = list.index('Token')\n",
    "print(index)"
   ]
  },
  {
   "cell_type": "markdown",
   "id": "a938d12b-8269-4e80-9447-b0621f9cc3bc",
   "metadata": {},
   "source": [
    "#### 插入 insert"
   ]
  },
  {
   "cell_type": "code",
   "execution_count": 8,
   "id": "81ca52ca-2eb3-4b9f-823f-d8926627122c",
   "metadata": {},
   "outputs": [
    {
     "name": "stdout",
     "output_type": "stream",
     "text": [
      "[1, 2, 3, 4, 555, 6]\n"
     ]
    }
   ],
   "source": [
    "list = [1,2,3,4,6]\n",
    "list.insert(4,555)\n",
    "print(list)"
   ]
  },
  {
   "cell_type": "markdown",
   "id": "29059d4e-1c07-4a07-a794-0310a76b62a7",
   "metadata": {},
   "source": [
    "#### 弹出 pop"
   ]
  },
  {
   "cell_type": "code",
   "execution_count": 9,
   "id": "7d774a43-fdfa-487d-bf7e-15d435bb9853",
   "metadata": {},
   "outputs": [
    {
     "name": "stdout",
     "output_type": "stream",
     "text": [
      "[1, 2, 3, 4]\n"
     ]
    }
   ],
   "source": [
    "list = [1,2,3,4,999]\n",
    "list.pop()\n",
    "\n",
    "print(list)"
   ]
  },
  {
   "cell_type": "markdown",
   "id": "db07ed98-66b5-4155-a153-b04392cfe28f",
   "metadata": {},
   "source": [
    "#### 删除第一个“指定值”元素 remove"
   ]
  },
  {
   "cell_type": "code",
   "execution_count": 10,
   "id": "f9ba9716-b0cc-4c89-911c-193f5ac2f32b",
   "metadata": {},
   "outputs": [
    {
     "name": "stdout",
     "output_type": "stream",
     "text": [
      "['Java', 'Javascript']\n"
     ]
    }
   ],
   "source": [
    "list = ['Python','Java','Javascript']\n",
    "list.remove('Python')\n",
    "\n",
    "print(list)"
   ]
  },
  {
   "cell_type": "markdown",
   "id": "43d5672e-286f-45ba-8f6c-05000b0de100",
   "metadata": {},
   "source": [
    "#### 翻转 reverse"
   ]
  },
  {
   "cell_type": "code",
   "execution_count": 11,
   "id": "31102d61-5e06-464e-8af5-aa6d53e647a6",
   "metadata": {},
   "outputs": [
    {
     "name": "stdout",
     "output_type": "stream",
     "text": [
      "[6, 5, 4, 3, 2, 1]\n"
     ]
    }
   ],
   "source": [
    "list = [1,2,3,4,5,6]\n",
    "list.reverse()\n",
    "\n",
    "print(list)"
   ]
  },
  {
   "cell_type": "markdown",
   "id": "630cd3f3-c0f6-474d-ae88-d7bc99785c90",
   "metadata": {},
   "source": [
    "#### 排序 sort"
   ]
  },
  {
   "cell_type": "code",
   "execution_count": 12,
   "id": "a5ee0f38-2d68-4573-8a90-219944fb5624",
   "metadata": {},
   "outputs": [
    {
     "name": "stdout",
     "output_type": "stream",
     "text": [
      "[1, 3, 9, 10, 11]\n"
     ]
    }
   ],
   "source": [
    "num = [1,9, 11, 3, 10]\n",
    "# num.sort(key= lambda x: x*(-1))\n",
    "num.sort(reverse=False)\n",
    "print(num)"
   ]
  },
  {
   "cell_type": "markdown",
   "id": "bff638a8-e856-4962-8b1a-d35b900623be",
   "metadata": {},
   "source": [
    "## 1.2 元组"
   ]
  },
  {
   "cell_type": "markdown",
   "id": "2d9e0b89-92a4-4f30-9aec-a48ffe674ce3",
   "metadata": {},
   "source": [
    "tuple一旦初始化就不能修改\n",
    "\n",
    "注意：若元组只有一个元素，只能(ele,)这么写"
   ]
  },
  {
   "cell_type": "code",
   "execution_count": 13,
   "id": "950b05e6-7073-4daa-ad79-c618e7378cd9",
   "metadata": {},
   "outputs": [
    {
     "name": "stdout",
     "output_type": "stream",
     "text": [
      "(1, 2, 3, 4)\n"
     ]
    }
   ],
   "source": [
    "tuple1 = (1,2,3,4)\n",
    "\n",
    "print(tuple1)"
   ]
  },
  {
   "cell_type": "markdown",
   "id": "b444ffd6-b83a-44f3-a8ab-d1d0b02c29db",
   "metadata": {},
   "source": [
    "## 1.3 字符串"
   ]
  },
  {
   "cell_type": "markdown",
   "id": "7e1eb59f-9db3-4cb0-a09b-5c1925b0dfa1",
   "metadata": {},
   "source": [
    "### 1.3.1 基础"
   ]
  },
  {
   "cell_type": "code",
   "execution_count": 14,
   "id": "c480a125-d847-4d2a-9420-dff33b88d66f",
   "metadata": {},
   "outputs": [],
   "source": [
    "str = '123123'"
   ]
  },
  {
   "cell_type": "markdown",
   "id": "cea62c05-c104-4d94-9446-f8b295fb68e7",
   "metadata": {},
   "source": [
    "### 1.3.2 常用方法"
   ]
  },
  {
   "cell_type": "markdown",
   "id": "01a645b7-5edd-44d1-a89d-3ea4e07a6252",
   "metadata": {},
   "source": [
    "#### 切片"
   ]
  },
  {
   "cell_type": "code",
   "execution_count": 15,
   "id": "8caf65f2-5cb9-49cb-8854-750964cc88fa",
   "metadata": {},
   "outputs": [
    {
     "name": "stdout",
     "output_type": "stream",
     "text": [
      "123\n"
     ]
    }
   ],
   "source": [
    "str = '123456'\n",
    "print(str[0:3])"
   ]
  },
  {
   "cell_type": "markdown",
   "id": "12f73190-2268-428e-8fc7-f30d74309058",
   "metadata": {},
   "source": [
    "#### 格式化 format"
   ]
  },
  {
   "cell_type": "code",
   "execution_count": 16,
   "id": "7c07cc40-ef44-4af7-840b-3a7c358a6fbe",
   "metadata": {},
   "outputs": [
    {
     "name": "stdout",
     "output_type": "stream",
     "text": [
      "广元有蒸凉面,武则天,剑门关\n"
     ]
    }
   ],
   "source": [
    "str = \"广元有{0},{2},{1}\"\n",
    "list = [\"蒸凉面\",\"剑门关\",\"武则天\"]\n",
    "res = str.format(*list)\n",
    "print(res)"
   ]
  },
  {
   "cell_type": "code",
   "execution_count": 17,
   "id": "c18fb2d2-9853-4b43-90cd-6c2eb61f7a76",
   "metadata": {},
   "outputs": [
    {
     "name": "stdout",
     "output_type": "stream",
     "text": [
      "广元有蒸凉面,剑门关,武则天\n"
     ]
    }
   ],
   "source": [
    "str = \"广元有{food},{scenery},{people}\"\n",
    "dict = {\"food\":\"蒸凉面\",\"scenery\":\"剑门关\",\"people\":\"武则天\"}\n",
    "res = str.format(**dict)\n",
    "print(res)"
   ]
  },
  {
   "cell_type": "code",
   "execution_count": 18,
   "id": "6e8851f6-2ace-4084-a9aa-2e312656d252",
   "metadata": {},
   "outputs": [
    {
     "name": "stdout",
     "output_type": "stream",
     "text": [
      "3.1416\n"
     ]
    }
   ],
   "source": [
    "PI = 3.1415926\n",
    "str = \"{:.4f}\".format(PI)\n",
    "\n",
    "print(str)"
   ]
  },
  {
   "cell_type": "markdown",
   "id": "b9061735-0981-4742-b507-7ede30d22609",
   "metadata": {},
   "source": [
    "#### 查找特定值 find\n",
    "find(self, sub, start=None, end=None)"
   ]
  },
  {
   "cell_type": "code",
   "execution_count": 19,
   "id": "1e9524e6-f716-49d7-8e71-e0ec23c85dac",
   "metadata": {},
   "outputs": [
    {
     "name": "stdout",
     "output_type": "stream",
     "text": [
      "2 -1\n"
     ]
    }
   ],
   "source": [
    "str = '一庭春雨，满架秋风'\n",
    "\n",
    "res1 = str.find(\"春雨\",1,5)\n",
    "res2 = str.find(\"夏雨\")\n",
    "\n",
    "print(res1,res2)"
   ]
  },
  {
   "cell_type": "markdown",
   "id": "1b38f774-40e1-48ef-972b-9a5a0b4f14eb",
   "metadata": {},
   "source": [
    "#### join"
   ]
  },
  {
   "cell_type": "code",
   "execution_count": 20,
   "id": "6a673d93-adc3-45ee-8530-db84d1ed6740",
   "metadata": {},
   "outputs": [
    {
     "name": "stdout",
     "output_type": "stream",
     "text": [
      "lawer and teacher and player\n"
     ]
    }
   ],
   "source": [
    "jobs = ['lawer','teacher',\"player\"]\n",
    "str = ' and '.join(jobs)\n",
    "\n",
    "print(str)"
   ]
  },
  {
   "cell_type": "markdown",
   "id": "cd9631ed-e748-4ac3-aa7c-a699015f67d5",
   "metadata": {},
   "source": [
    "#### 转大小写 lower upper"
   ]
  },
  {
   "cell_type": "code",
   "execution_count": 21,
   "id": "d5198ccb-6caa-40e2-9654-d5cbbe0da119",
   "metadata": {},
   "outputs": [
    {
     "name": "stdout",
     "output_type": "stream",
     "text": [
      "such a beautiful girl \n",
      " SUCH A BEAUTIFUL GIRL\n"
     ]
    }
   ],
   "source": [
    "str = 'Such a beautiful girl'\n",
    "res1 = str.lower()\n",
    "res2 = str.upper()\n",
    "\n",
    "print(res1,'\\n',res2)"
   ]
  },
  {
   "cell_type": "markdown",
   "id": "f1898f63-e5a5-464a-9058-a12d2ff1bf36",
   "metadata": {},
   "source": [
    "#### 替换 replace\n",
    "replace(self, old, new, count=None) return newStr\n",
    "\n",
    "注意：\n",
    "+ 原字符串不变，返回替换后的字符串\n",
    "+ 方法replace用于将字符串中的某子串进行替换，默认替换指定的所有子串。old为旧的字符串，new为新的字符串，count为替换的次数。"
   ]
  },
  {
   "cell_type": "code",
   "execution_count": 22,
   "id": "a977e2b6-7642-49a1-86a3-1eb9968b28f7",
   "metadata": {},
   "outputs": [
    {
     "name": "stdout",
     "output_type": "stream",
     "text": [
      "Adam天天睡觉不洗澡，Adam他妈天天日决他，Adam他妈天天劝Adam他爸\n"
     ]
    }
   ],
   "source": [
    "word = '博文'\n",
    "newWord = 'Adam'\n",
    "str = '博文天天睡觉不洗澡，博文他妈天天日决他，博文他妈天天劝博文他爸'\n",
    "newStr = str.replace(word,newWord)\n",
    "\n",
    "print(newStr)"
   ]
  },
  {
   "cell_type": "markdown",
   "id": "eac54127-bd92-4cd8-90a8-4611ef770dc9",
   "metadata": {},
   "source": [
    "#### 分割 split\n",
    "\n",
    "split(self, sep=None, maxsplit=-1)\n",
    "maxsplit为最多分隔的次数，-1表示全部分隔。"
   ]
  },
  {
   "cell_type": "code",
   "execution_count": 23,
   "id": "4a2bad13-c403-431a-85a7-3a6741b4dfb5",
   "metadata": {},
   "outputs": [
    {
     "name": "stdout",
     "output_type": "stream",
     "text": [
      "['天津', '上海', '广州', '广元']\n"
     ]
    }
   ],
   "source": [
    "str = '天津、上海、广州、广元'\n",
    "citys = str.split('、')\n",
    "\n",
    "print(citys)"
   ]
  },
  {
   "cell_type": "markdown",
   "id": "674449e1-cf8a-4cf3-a2f1-74ba6e8385b7",
   "metadata": {},
   "source": [
    "#### 移除开头结尾指定字符 strip"
   ]
  },
  {
   "cell_type": "code",
   "execution_count": 24,
   "id": "6621d806-7a88-4df0-a003-3e40eab7d159",
   "metadata": {},
   "outputs": [
    {
     "name": "stdout",
     "output_type": "stream",
     "text": [
      "a\n"
     ]
    }
   ],
   "source": [
    "str = \"       a        \"\n",
    "newStr = str.strip(\" \")\n",
    "\n",
    "print(newStr)"
   ]
  },
  {
   "cell_type": "markdown",
   "id": "f666d021-8594-4136-b56b-744d246b8ce1",
   "metadata": {},
   "source": [
    "#### 字符替换 translate\n",
    "\n",
    "translate(self, table)\n",
    "\n",
    "方法translate根据由maketrans函数生成的对照表table完成字符替换，table 是对照表，是由maketrans函数生成。\n",
    "\n",
    "注意：\n",
    "+ 要求对照表字符len一样（扯淡！！！）"
   ]
  },
  {
   "cell_type": "code",
   "execution_count": 25,
   "id": "0ea1dfce-2fc8-41f1-8c16-25d1262946f3",
   "metadata": {},
   "outputs": [
    {
     "name": "stdout",
     "output_type": "stream",
     "text": [
      "阿文天天睡觉不洗澡，阿文他妈天天日决他，阿文他妈天天劝阿文他爸\n"
     ]
    }
   ],
   "source": [
    "table = str.maketrans(\"博文\",\"阿文\")\n",
    "str = '博文天天睡觉不洗澡，博文他妈天天日决他，博文他妈天天劝博文他爸'\n",
    "res = str.translate(table)\n",
    "\n",
    "print(res)"
   ]
  },
  {
   "cell_type": "markdown",
   "id": "20afb451-e030-4157-8974-e17a204b8d41",
   "metadata": {},
   "source": [
    "## 1.4 字典"
   ]
  },
  {
   "cell_type": "markdown",
   "id": "670f75e4-a576-4eb4-b90b-fcd263b6a246",
   "metadata": {},
   "source": [
    "### 1.4.1 基础"
   ]
  },
  {
   "cell_type": "code",
   "execution_count": 26,
   "id": "b064d777-68b6-4a6f-b54a-91dbd22a7c83",
   "metadata": {},
   "outputs": [],
   "source": [
    "dic = {'name': 'Adam', 'age': '15'}"
   ]
  },
  {
   "cell_type": "markdown",
   "id": "433e92d3-6301-4876-97b5-912df3c9bb16",
   "metadata": {},
   "source": [
    "### 1.4.2 常用方法"
   ]
  },
  {
   "cell_type": "markdown",
   "id": "a0ef4d8f-6c36-44b5-bdc7-ec709bdff0e4",
   "metadata": {},
   "source": [
    "#### 清空 clear"
   ]
  },
  {
   "cell_type": "code",
   "execution_count": 27,
   "id": "bbf81b83-368c-47b0-a481-3d1855fa4710",
   "metadata": {},
   "outputs": [
    {
     "name": "stdout",
     "output_type": "stream",
     "text": [
      "{}\n"
     ]
    }
   ],
   "source": [
    "dic = {'name': 'Adam', 'age': '15'}\n",
    "dic.clear()\n",
    "\n",
    "print(dic)"
   ]
  },
  {
   "cell_type": "markdown",
   "id": "fdf74ece-63e1-4a84-82cf-ad84f7b8c26a",
   "metadata": {},
   "source": [
    "#### 浅拷贝 copy"
   ]
  },
  {
   "cell_type": "code",
   "execution_count": 28,
   "id": "1f0296f9-bddc-4243-8d6e-21c1aa62ec3e",
   "metadata": {},
   "outputs": [
    {
     "name": "stdout",
     "output_type": "stream",
     "text": [
      "{'name': 'Adam', 'age': '15', 'obj': {'num': 88}}\n"
     ]
    }
   ],
   "source": [
    "dic = {'name': 'Adam', 'age': '15', 'obj':{'num':99}}\n",
    "dic2 = dic.copy()\n",
    "dic['obj']['num'] = 88\n",
    "\n",
    "print(dic2)"
   ]
  },
  {
   "cell_type": "markdown",
   "id": "36c042e5-7c8f-4683-8d5d-d3a18326bbeb",
   "metadata": {},
   "source": [
    "#### 创建新字典 fromkeys\n",
    "依据给定的键序列和可选的默认值来创建字典"
   ]
  },
  {
   "cell_type": "code",
   "execution_count": 29,
   "id": "2459c1c1-3124-4f2e-a8c0-d5688248c66a",
   "metadata": {},
   "outputs": [
    {
     "name": "stdout",
     "output_type": "stream",
     "text": [
      "{'Adam': 18, 'Douaa': 18}\n"
     ]
    }
   ],
   "source": [
    "items = ['Adam','Douaa']\n",
    "defaultAge = 18\n",
    "\n",
    "dic = dict.fromkeys(items,defaultAge)\n",
    "print(dic)"
   ]
  },
  {
   "cell_type": "markdown",
   "id": "785e492f-4b35-4b80-b142-6e5b42393764",
   "metadata": {},
   "source": [
    "#### 获取值 get"
   ]
  },
  {
   "cell_type": "code",
   "execution_count": 30,
   "id": "ab82fe82-4c5c-4253-8451-0b7b0b00ddca",
   "metadata": {},
   "outputs": [
    {
     "name": "stdout",
     "output_type": "stream",
     "text": [
      "Adam\n"
     ]
    }
   ],
   "source": [
    "dic = {'name': 'Adam', 'age': '15', 'obj':{'num':99}}\n",
    "value = dic.get('name')\n",
    "\n",
    "print(value)"
   ]
  },
  {
   "cell_type": "markdown",
   "id": "6841bc2f-e438-4f86-911c-36f40c46b306",
   "metadata": {},
   "source": [
    "#### 返回字典中键值对的视图 items\n",
    "视图以可迭代的形式呈现，其中每个元素是一个包含键和对应值的元组。"
   ]
  },
  {
   "cell_type": "code",
   "execution_count": 31,
   "id": "d504c3de-781c-4458-b962-33a054e9df0a",
   "metadata": {},
   "outputs": [
    {
     "name": "stdout",
     "output_type": "stream",
     "text": [
      "key:name, value:Adam\n",
      "key:age, value:15\n",
      "key:obj, value:{'num': 99}\n"
     ]
    }
   ],
   "source": [
    "dic = {'name': 'Adam', 'age': '15', 'obj':{'num':99}}\n",
    "list = dic.items()\n",
    "\n",
    "for key,value in list:\n",
    "    print(f\"key:{key}, value:{value}\")"
   ]
  },
  {
   "cell_type": "markdown",
   "id": "1b486c29-3dab-464d-9150-dbeb6e7d1562",
   "metadata": {},
   "source": [
    "#### 返回所有键 keys"
   ]
  },
  {
   "cell_type": "code",
   "execution_count": 32,
   "id": "f387ad1b-90f6-48a8-adb4-86012c014b0e",
   "metadata": {},
   "outputs": [
    {
     "name": "stdout",
     "output_type": "stream",
     "text": [
      "key:name, value:Adam\n",
      "key:age, value:15\n",
      "key:obj, value:{'num': 99}\n"
     ]
    }
   ],
   "source": [
    "dic = {'name': 'Adam', 'age': '15', 'obj':{'num':99}}\n",
    "keys = dic.keys()\n",
    "\n",
    "for key in keys:\n",
    "    print(f\"key:{key}, value:{dic[key]}\")"
   ]
  },
  {
   "cell_type": "markdown",
   "id": "c280660a-a429-4bb5-870f-c814b2919876",
   "metadata": {},
   "source": [
    "#### 返回所有值 values"
   ]
  },
  {
   "cell_type": "code",
   "execution_count": 33,
   "id": "aa20df02-acff-4f3e-b3ab-039fd11393d8",
   "metadata": {},
   "outputs": [
    {
     "name": "stdout",
     "output_type": "stream",
     "text": [
      "dict_values(['Adam', '15', {'num': 99}])\n"
     ]
    }
   ],
   "source": [
    "dic = {'name': 'Adam', 'age': '15', 'obj':{'num':99}}\n",
    "values = dic.values()\n",
    "\n",
    "print(values)"
   ]
  },
  {
   "cell_type": "markdown",
   "id": "68d64c13-aac2-44ab-af4d-737ccc2c62f5",
   "metadata": {},
   "source": [
    "#### 删除指定键值对 pop(self, key, default=None)"
   ]
  },
  {
   "cell_type": "code",
   "execution_count": 34,
   "id": "d7af598e-857c-4e37-b736-38deee03252c",
   "metadata": {},
   "outputs": [
    {
     "name": "stdout",
     "output_type": "stream",
     "text": [
      "{'age': '15', 'obj': {'num': 99}}\n"
     ]
    }
   ],
   "source": [
    "dic = {'name': 'Adam', 'age': '15', 'obj':{'num':99}}\n",
    "dic.pop('name')\n",
    "\n",
    "print(dic)"
   ]
  },
  {
   "cell_type": "markdown",
   "id": "61461230-1537-46d1-9285-d522f54d73c3",
   "metadata": {},
   "source": [
    "#### 查询值setdefault(self, key, default=None)\n",
    "\n",
    "查询值，不在扔进去 "
   ]
  },
  {
   "cell_type": "code",
   "execution_count": 35,
   "id": "fe6561b4-b20c-486b-a9d6-8b8b9b54259e",
   "metadata": {},
   "outputs": [
    {
     "name": "stdout",
     "output_type": "stream",
     "text": [
      "Douaa {'name': 'Adam', 'age': '15', 'obj': {'num': 99}, 'girl': 'Douaa'}\n"
     ]
    }
   ],
   "source": [
    "dic = {'name': 'Adam', 'age': '15', 'obj':{'num':99}}\n",
    "value = dic.setdefault('girl','Douaa')\n",
    "\n",
    "print(value,dic)"
   ]
  },
  {
   "cell_type": "markdown",
   "id": "1bed5611-e158-4c54-a689-be21af215770",
   "metadata": {},
   "source": [
    "#### 浅更新 update\n",
    "\n",
    "同名key，直接覆盖。原dict不存在的key，直接扔进去"
   ]
  },
  {
   "cell_type": "code",
   "execution_count": 36,
   "id": "dc184e0a-1ee3-4164-910c-c1afe66084fe",
   "metadata": {},
   "outputs": [
    {
     "name": "stdout",
     "output_type": "stream",
     "text": [
      "{'name': 'Douaa', 'age': '18', 'obj': {'num': 11}, 'birth': '3-10'}\n"
     ]
    }
   ],
   "source": [
    "dic = {'name': 'Adam', 'age': '15', 'obj':{'num':99,'num2':11}}\n",
    "dic2 = {'name':'Douaa','age':'18','birth':'3-10','obj':{'num':11}}\n",
    "dic.update(dic2)\n",
    "\n",
    "print(dic)"
   ]
  },
  {
   "cell_type": "markdown",
   "id": "6aa2bf4d-1552-4103-8d8b-f4e988c830e4",
   "metadata": {},
   "source": [
    "# 二、三大语句"
   ]
  },
  {
   "cell_type": "markdown",
   "id": "9af4be9b-6d6d-4dda-a9d8-3ae647eb3790",
   "metadata": {},
   "source": [
    "## 2.1 顺序语句"
   ]
  },
  {
   "cell_type": "markdown",
   "id": "bac8dfd4-ade9-4cd6-80a9-148c76e5842c",
   "metadata": {},
   "source": [
    "### 2.1.1 链式赋值(雷！狗都不用)"
   ]
  },
  {
   "cell_type": "code",
   "execution_count": 37,
   "id": "2340d1d2-a46b-49dd-940d-c29dbb994caa",
   "metadata": {},
   "outputs": [
    {
     "name": "stdout",
     "output_type": "stream",
     "text": [
      "1 1 1\n",
      "{'age': 11} {'age': 11} {'age': 11}\n"
     ]
    }
   ],
   "source": [
    "a = b = c= 1\n",
    "print(a,b,c)\n",
    "\n",
    "a = b = c = {'age':99}\n",
    "b['age'] = 11 \n",
    "\n",
    "print(a,b,c)"
   ]
  },
  {
   "cell_type": "markdown",
   "id": "3673f61c-0ef3-4211-9935-0b240aea9ebb",
   "metadata": {},
   "source": [
    "### 2.1.2 try catch"
   ]
  },
  {
   "cell_type": "code",
   "execution_count": 38,
   "id": "c50dd12b-3718-4f4b-a1e6-1f4184704d31",
   "metadata": {},
   "outputs": [
    {
     "name": "stdout",
     "output_type": "stream",
     "text": [
      "God job\n",
      "END\n"
     ]
    }
   ],
   "source": [
    "try:\n",
    "    1/1\n",
    "except:\n",
    "    print('there are something wrong!!!')\n",
    "else:\n",
    "    print('God job')\n",
    "finally:\n",
    "    print('END')"
   ]
  },
  {
   "cell_type": "markdown",
   "id": "c99e2030-6017-4d60-a88e-b719de2c9fad",
   "metadata": {},
   "source": [
    "## 2.2 条件语句"
   ]
  },
  {
   "cell_type": "code",
   "execution_count": 39,
   "id": "c3e647e8-cb46-47ab-bbf8-1435089136a5",
   "metadata": {},
   "outputs": [
    {
     "name": "stdout",
     "output_type": "stream",
     "text": [
      "hello China\n"
     ]
    }
   ],
   "source": [
    "flag = 1991\n",
    "\n",
    "if flag < 100 and True:\n",
    "    print('Hello Douaa')\n",
    "elif flag < 200 and 1==1:\n",
    "    print('Hello Adam')\n",
    "else:\n",
    "    print('hello China')"
   ]
  },
  {
   "cell_type": "markdown",
   "id": "35c272aa-997f-4003-b436-967407dee0a8",
   "metadata": {},
   "source": [
    "## 2.3 循环语句"
   ]
  },
  {
   "cell_type": "markdown",
   "id": "ecf30947-599e-4a3a-9840-c3b71adee9e6",
   "metadata": {},
   "source": [
    "### 跳出循环 break、continue"
   ]
  },
  {
   "cell_type": "markdown",
   "id": "1e53d0ce-129c-471b-8375-47dfa526aff0",
   "metadata": {},
   "source": [
    "### while循环"
   ]
  },
  {
   "cell_type": "code",
   "execution_count": 40,
   "id": "8fc1f66a-880f-4c60-bdb7-3ec95a1c5778",
   "metadata": {},
   "outputs": [
    {
     "name": "stdout",
     "output_type": "stream",
     "text": [
      "1\n",
      "2\n",
      "3\n",
      "end\n"
     ]
    }
   ],
   "source": [
    "num = 0\n",
    "\n",
    "while num < 3:\n",
    "    num +=1\n",
    "    print(num)\n",
    "else:\n",
    "    print('end')"
   ]
  },
  {
   "cell_type": "markdown",
   "id": "e66e004b-13be-4d93-b763-bf192a617ca0",
   "metadata": {},
   "source": [
    "### for循环"
   ]
  },
  {
   "cell_type": "code",
   "execution_count": 41,
   "id": "780d801b-4237-4abf-bc5d-945dac5626ef",
   "metadata": {},
   "outputs": [
    {
     "name": "stdout",
     "output_type": "stream",
     "text": [
      "1\n",
      "2\n",
      "3\n",
      "4\n",
      "5\n",
      "6\n",
      "7\n",
      "8\n",
      "9\n",
      "End\n"
     ]
    }
   ],
   "source": [
    "nums = range(1,10)\n",
    "for num in nums:\n",
    "    print(num)\n",
    "else:\n",
    "    print('End')"
   ]
  },
  {
   "cell_type": "markdown",
   "id": "f1d6d6d4-1e27-417c-a4be-a7da6068aece",
   "metadata": {},
   "source": [
    "# 三、函数、类和对象"
   ]
  },
  {
   "cell_type": "markdown",
   "id": "4c0042f4-6531-43c0-9131-bea217538507",
   "metadata": {},
   "source": [
    "## 3.1 函数"
   ]
  },
  {
   "cell_type": "markdown",
   "id": "8d80c3f2-f18f-4c9a-b16c-9b9142de4b80",
   "metadata": {},
   "source": [
    "### 3.1.1 定义"
   ]
  },
  {
   "cell_type": "code",
   "execution_count": 42,
   "id": "15da178e-e7bb-43cd-9138-f91efe611159",
   "metadata": {},
   "outputs": [
    {
     "name": "stdout",
     "output_type": "stream",
     "text": [
      "3\n"
     ]
    }
   ],
   "source": [
    "def add(num1,num2):\n",
    "    return num1+num2\n",
    "\n",
    "res = add(1,2)\n",
    "print(res)"
   ]
  },
  {
   "cell_type": "markdown",
   "id": "7eaa62e1-0591-4e5d-8b3c-f42b9afecd66",
   "metadata": {},
   "source": [
    "### 3.1.2 参数\n",
    "\n",
    "顺序必须是：必选参数、默认参数、可变参数、命名关键字参数和关键字参数。"
   ]
  },
  {
   "cell_type": "markdown",
   "id": "cf0e256f-cb7f-4bae-8fe6-3e31d38d2787",
   "metadata": {},
   "source": [
    "+ 默认参数"
   ]
  },
  {
   "cell_type": "code",
   "execution_count": 43,
   "id": "a092d20e-5f95-4404-b1da-f8a86f47038d",
   "metadata": {},
   "outputs": [],
   "source": [
    "# 默认参数\n",
    "def fn(x,y=1):\n",
    "    return x*y"
   ]
  },
  {
   "cell_type": "markdown",
   "id": "e7042015-b487-4c9c-a484-c4f5c12320cf",
   "metadata": {},
   "source": [
    "+ 可变参数"
   ]
  },
  {
   "cell_type": "code",
   "execution_count": 44,
   "id": "f253a236-74c4-446d-be10-a6eb89c29605",
   "metadata": {},
   "outputs": [
    {
     "name": "stdout",
     "output_type": "stream",
     "text": [
      "(1, 2, 3, 4, 5)\n",
      "15\n"
     ]
    }
   ],
   "source": [
    "def calc(*nums):\n",
    "    print(nums)\n",
    "    sum = 0\n",
    "    for num in nums:\n",
    "        sum += num\n",
    "    return sum\n",
    "\n",
    "sum = calc(1,2,3,4,5)\n",
    "\n",
    "print(sum)"
   ]
  },
  {
   "cell_type": "markdown",
   "id": "24583918-8bf8-48f4-86b4-2d74a192db5e",
   "metadata": {},
   "source": [
    "+ 关键字参数"
   ]
  },
  {
   "cell_type": "code",
   "execution_count": 45,
   "id": "2669b055-66f4-4db1-8e6e-6091fc684028",
   "metadata": {},
   "outputs": [
    {
     "name": "stdout",
     "output_type": "stream",
     "text": [
      "Adam\n"
     ]
    }
   ],
   "source": [
    "def getName(**obj):\n",
    "    if 'name' in obj:\n",
    "        return obj['name']\n",
    "    else:\n",
    "        return 'None'\n",
    "\n",
    "obj = {'name':'Adam'}\n",
    "myName = getName(**obj)\n",
    "print(myName)"
   ]
  },
  {
   "cell_type": "markdown",
   "id": "04836d82-dc4a-4906-82e8-b976ae8d1a6f",
   "metadata": {},
   "source": [
    "### 3.1.3 注意事项\n",
    "\n",
    "1. 在函数内部的任何位置定义的变量，*在函数体的其他部分都可以被访问和使用*，只要该变量在使用之前已经被定义。"
   ]
  },
  {
   "cell_type": "code",
   "execution_count": 46,
   "id": "67ae81b1-9faa-45fe-970c-dc794dce42bf",
   "metadata": {},
   "outputs": [
    {
     "name": "stdout",
     "output_type": "stream",
     "text": [
      "False\n"
     ]
    }
   ],
   "source": [
    "import math\n",
    "def getFlag(num):\n",
    "    if num > 10:\n",
    "        flag = 1\n",
    "    else:\n",
    "        flag = 0\n",
    "    flag = bool(flag)\n",
    "    return flag\n",
    "\n",
    "res = getFlag(1)\n",
    "print(res)"
   ]
  },
  {
   "cell_type": "markdown",
   "id": "df08de52-f575-40f9-8946-9c596d1ff99a",
   "metadata": {},
   "source": [
    "### 3.1.4 空函数"
   ]
  },
  {
   "cell_type": "code",
   "execution_count": 47,
   "id": "2e6015e7-466d-4b01-bdfb-0c7bf76a3ab8",
   "metadata": {},
   "outputs": [],
   "source": [
    "def fn():\n",
    "    pass"
   ]
  },
  {
   "cell_type": "markdown",
   "id": "3954e233-ea58-4d87-8128-3186f82060b0",
   "metadata": {},
   "source": [
    "## 3.2 高阶函数"
   ]
  },
  {
   "cell_type": "markdown",
   "id": "44ca065d-1a78-49bf-b1b1-89bdeebd2653",
   "metadata": {},
   "source": [
    "### 3.2.1 filter"
   ]
  },
  {
   "cell_type": "code",
   "execution_count": 48,
   "id": "79b21559-e8f2-4745-b0bf-10427f948710",
   "metadata": {},
   "outputs": [
    {
     "name": "stdout",
     "output_type": "stream",
     "text": [
      "100\n",
      "23\n",
      "15\n"
     ]
    },
    {
     "ename": "TypeError",
     "evalue": "'dict_items' object is not callable",
     "output_type": "error",
     "traceback": [
      "\u001b[1;31m---------------------------------------------------------------------------\u001b[0m",
      "\u001b[1;31mTypeError\u001b[0m                                 Traceback (most recent call last)",
      "Cell \u001b[1;32mIn[48], line 10\u001b[0m\n\u001b[0;32m      7\u001b[0m \u001b[38;5;28;01mfor\u001b[39;00m value \u001b[38;5;129;01min\u001b[39;00m res:\n\u001b[0;32m      8\u001b[0m     \u001b[38;5;28mprint\u001b[39m(value)\n\u001b[1;32m---> 10\u001b[0m \u001b[38;5;28mprint\u001b[39m(\u001b[38;5;28;43mlist\u001b[39;49m\u001b[43m(\u001b[49m\u001b[43mres\u001b[49m\u001b[43m)\u001b[49m)\n",
      "\u001b[1;31mTypeError\u001b[0m: 'dict_items' object is not callable"
     ]
    }
   ],
   "source": [
    "# filter\n",
    "def fn(num):\n",
    "    return num > 10\n",
    "\n",
    "res = filter(fn, [1, 5, 100, 23, 5, 15])\n",
    "\n",
    "for value in res:\n",
    "    print(value)\n",
    "\n",
    "print(list(res))"
   ]
  },
  {
   "cell_type": "markdown",
   "id": "f2f7b3d5-851d-48ac-a146-04cb088f73c4",
   "metadata": {},
   "source": [
    "### 3.2.2 map"
   ]
  },
  {
   "cell_type": "code",
   "execution_count": null,
   "id": "4ccbdc04-f77d-43c4-aad5-622aa708974e",
   "metadata": {},
   "outputs": [],
   "source": [
    "myData = map(lambda x: x * x, [1, 2, 3, 4, 5])\n",
    "print(list(myData))"
   ]
  },
  {
   "cell_type": "markdown",
   "id": "4efcd36e-40b3-4d68-a856-b6aaf50a7603",
   "metadata": {},
   "source": [
    "### 3.2.3 reduce\n",
    "\n",
    "reduce(f, [x1, x2, x3, x4]) = f(f(f(x1, x2), x3), x4)"
   ]
  },
  {
   "cell_type": "code",
   "execution_count": null,
   "id": "82e39daa-544e-40b1-8bc3-8abf0530a420",
   "metadata": {},
   "outputs": [],
   "source": [
    "from functools import reduce\n",
    "def fn(x, y):\n",
    "    return x + y + 10\n",
    "\n",
    "res = reduce(fn, [1, 2, 3, 4, 5, 6])\n",
    "print(res)"
   ]
  },
  {
   "cell_type": "markdown",
   "id": "8d0ff3d3-e071-4f72-9950-2d170cdc6270",
   "metadata": {},
   "source": [
    "### 3.2.4 返回函数"
   ]
  },
  {
   "cell_type": "code",
   "execution_count": null,
   "id": "5f7cb0d6-ff4c-4f69-a0d5-cddde166a924",
   "metadata": {},
   "outputs": [],
   "source": [
    "def getSum(*args):\n",
    "\n",
    "    def calc():\n",
    "        sum = 0\n",
    "        for num in args:\n",
    "            sum += num\n",
    "        return sum\n",
    "\n",
    "    return calc\n",
    "\n",
    "\n",
    "sum = getSum(1, 2, 3, 4, 5)\n",
    "print(sum())"
   ]
  },
  {
   "cell_type": "markdown",
   "id": "06977aab-5238-4658-961a-d1502fa2cc53",
   "metadata": {},
   "source": [
    "### 3.2.5 lambda函数"
   ]
  },
  {
   "cell_type": "code",
   "execution_count": null,
   "id": "bbeed08d-1855-4add-bcde-e6e8947e3295",
   "metadata": {},
   "outputs": [],
   "source": [
    "data = [1,2,3,4,5]\n",
    "newData = map(lambda x:x*x, data)\n",
    "print(list(newData))"
   ]
  },
  {
   "cell_type": "markdown",
   "id": "12950314-6e59-447b-a77c-ea290a08b22b",
   "metadata": {},
   "source": [
    "## 3.3 类"
   ]
  },
  {
   "cell_type": "markdown",
   "id": "092323dc-0fb2-4bfb-b696-6cacb83c09e6",
   "metadata": {},
   "source": [
    "### 3.3.1 定义"
   ]
  },
  {
   "cell_type": "code",
   "execution_count": null,
   "id": "221477ca-fd5e-4bc6-b845-96fe41768599",
   "metadata": {},
   "outputs": [],
   "source": [
    "class Person:\n",
    "    def __init__(self, name, age):\n",
    "        self.name = name\n",
    "        self.age = age\n",
    "\n",
    "    def getName(self):\n",
    "        return self.name\n",
    "\n",
    "\n",
    "XM = Person('Adam',18)\n",
    "name = XM.getName()\n",
    "print(name)"
   ]
  },
  {
   "cell_type": "markdown",
   "id": "f8151667-cedc-4360-9a7b-97db45c7a3a0",
   "metadata": {},
   "source": [
    "### 3.3.2 继承"
   ]
  },
  {
   "cell_type": "markdown",
   "id": "553cc81c-8c87-4960-a864-208aa5499397",
   "metadata": {},
   "source": [
    "#### 单继承"
   ]
  },
  {
   "cell_type": "code",
   "execution_count": null,
   "id": "5c3e6b3c-dcf1-4107-8f45-71426e25808e",
   "metadata": {},
   "outputs": [],
   "source": [
    "class Person:\n",
    "    def __init__(self, name, age):\n",
    "        self.name = name\n",
    "        self.age = age\n",
    "\n",
    "    def getName(self):\n",
    "        return self.name\n",
    "\n",
    "    def setName(self, name):\n",
    "        self.name = name\n",
    "\n",
    "class Stu(Person):\n",
    "    \n",
    "    def __init__(self, name, age, ID):\n",
    "        # Person.__init__(self, name, age)\n",
    "        super().__init__(name, age)\n",
    "        self.ID = ID\n",
    "\n",
    "    def getInfo(self):\n",
    "        print(f'name:{self.name}, age:{self.age}, ID:{self.ID}')\n",
    "\n",
    "stu = Stu('Adam',18,'510802')\n",
    "stu.getInfo()"
   ]
  },
  {
   "cell_type": "markdown",
   "id": "9f967129-fd97-4757-85b0-dd14c2328880",
   "metadata": {},
   "source": [
    "#### 多重继承"
   ]
  },
  {
   "cell_type": "markdown",
   "id": "bbf7c4f4-94a0-47c9-ab27-51a2986d6643",
   "metadata": {},
   "source": [
    "（1）基础版"
   ]
  },
  {
   "cell_type": "code",
   "execution_count": null,
   "id": "3e2c438d-f93f-47ba-ac0f-590ab87b0d4d",
   "metadata": {},
   "outputs": [],
   "source": [
    "class Person:\n",
    "    def __init__(self, name):\n",
    "        self.name = name\n",
    "\n",
    "    def getName(self):\n",
    "        return self.name\n",
    "\n",
    "    def setName(self, name):\n",
    "        self.name = name\n",
    "\n",
    "class Animal:\n",
    "    def __init__(self, age):\n",
    "        self.age = age\n",
    "\n",
    "    def getAge(self):\n",
    "        return self.age\n",
    "\n",
    "class Stu(Person, Animal):\n",
    "\n",
    "    def __init__(self,name,age,ID):\n",
    "        Person.__init__(self, name)\n",
    "        Animal.__init__(self, age)\n",
    "        self.ID = ID\n",
    "    \n",
    "    def getInfo(self):\n",
    "        print(f'name:{self.name}, age:{self.age}, ID:{self.ID}')\n",
    "\n",
    "stu = Stu('Adam',18,'510802')\n",
    "stu.getInfo()"
   ]
  },
  {
   "cell_type": "markdown",
   "id": "e360be68-dc6f-4a29-84aa-8571b6c97a0b",
   "metadata": {},
   "source": [
    "（2）super版"
   ]
  },
  {
   "cell_type": "code",
   "execution_count": null,
   "id": "051e49ed-6a6a-48d9-826e-0632e19ebc70",
   "metadata": {},
   "outputs": [],
   "source": [
    "class Person:\n",
    "    def __init__(self, name, **kwargs):\n",
    "        self.name = name\n",
    "        super().__init__(**kwargs)\n",
    "\n",
    "    def getName(self):\n",
    "        return self.name\n",
    "\n",
    "    def setName(self, name):\n",
    "        self.name = name\n",
    "\n",
    "class Animal:\n",
    "    def __init__(self, age, **kwargs):\n",
    "        self.age = age\n",
    "        super().__init__(**kwargs)\n",
    "\n",
    "    def getAge(self):\n",
    "        return self.age\n",
    "\n",
    "class Stu(Person, Animal):\n",
    "\n",
    "    def __init__(self,name,age,ID,**kwargs):\n",
    "        # Person.__init__(self, name)\n",
    "        # Animal.__init__(self, age)\n",
    "        super().__init__(name=name,age=age,**kwargs)\n",
    "        self.ID = ID\n",
    "    \n",
    "    def getInfo(self):\n",
    "        print(f'name:{self.name}, age:{self.age}, ID:{self.ID}')\n",
    "\n",
    "    # 重写\n",
    "    def getName(self):\n",
    "        print(f'Stu\\'s name:{self.name}')\n",
    "\n",
    "stu = Stu('Adam',18,'510802')\n",
    "stu.getInfo()\n",
    "stu.getName()\n",
    "# print(stu.mro())"
   ]
  },
  {
   "cell_type": "markdown",
   "id": "0a02bbd0-d61c-4b3d-b4ed-9d7e811533da",
   "metadata": {},
   "source": [
    "#### 多级继承"
   ]
  },
  {
   "cell_type": "code",
   "execution_count": null,
   "id": "46f36285-dc6d-4a93-a3e6-0eba30a67097",
   "metadata": {},
   "outputs": [],
   "source": [
    "class Person:\n",
    "    def __init__(self,age,**kwargs):\n",
    "        super().__init__(**kwargs)\n",
    "        self.age = age\n",
    "\n",
    "class Man(Person):\n",
    "    def __init__(self,name,**kwargs):\n",
    "        super().__init__(**kwargs)\n",
    "        self.name = name\n",
    "\n",
    "    def getName(self):\n",
    "        return self.name\n",
    "\n",
    "\n",
    "class Stu(Man):\n",
    "    def __init__(self,ID,**kwargs):\n",
    "        super().__init__(**kwargs)\n",
    "        self.ID = ID\n",
    "\n",
    "    def getInfo(self):\n",
    "        name = super().getName()\n",
    "        print(f'name:{name}, age:{self.age}, ID:{self.ID}')\n",
    "\n",
    "info = {'ID':\"510802\", \"name\":'Adam', \"age\":18}\n",
    "XM = Stu(**info)\n",
    "XM.getInfo()"
   ]
  },
  {
   "cell_type": "markdown",
   "id": "e4e1b007-219b-4dd7-90c1-ff8d7bff0351",
   "metadata": {},
   "source": [
    "#### 多态\n",
    "\n",
    "调用方只管调用，不管细节"
   ]
  },
  {
   "cell_type": "code",
   "execution_count": null,
   "id": "61a74d44-89f6-41dd-8744-748b2d85dd93",
   "metadata": {},
   "outputs": [],
   "source": [
    "def run(water):\n",
    "    water.show()\n",
    "\n",
    "class Water:\n",
    "    def show(self):\n",
    "        pass\n",
    "\n",
    "class Ice(Water):\n",
    "    def show(self):\n",
    "        print('Im ice')\n",
    "\n",
    "class Steam(Water):\n",
    "    def show(self):\n",
    "        print('Im water')\n",
    "\n",
    "run(Ice())\n",
    "run(Water())"
   ]
  },
  {
   "cell_type": "markdown",
   "id": "3ee4182a-cb7e-4c45-9558-e6a66833fad7",
   "metadata": {},
   "source": [
    "### 3.3.3 类、静态方法"
   ]
  },
  {
   "cell_type": "code",
   "execution_count": null,
   "id": "f215fa71-aa3d-479e-9ee8-65865e2b1957",
   "metadata": {},
   "outputs": [],
   "source": [
    "class Person:\n",
    "\n",
    "    @classmethod\n",
    "    def getClassName(cls):\n",
    "        print('Person')\n",
    "\n",
    "    @staticmethod\n",
    "    def getInfo():\n",
    "        print('Class Person')\n",
    "\n",
    "Person.getInfo()"
   ]
  },
  {
   "cell_type": "markdown",
   "id": "796e0583-3b74-4f06-8371-193f6d358904",
   "metadata": {},
   "source": [
    "区别：\n",
    "+ 类方法需要自身类clc"
   ]
  },
  {
   "cell_type": "markdown",
   "id": "8b399218-1745-4468-9e11-a9ff3bf2ce3b",
   "metadata": {},
   "source": [
    "# 四、文件的读写\n",
    "\n",
    "## 4.1 python内置方法\n",
    "### 4.1.1 读\n",
    "\n",
    "步骤：\n",
    "1. open\n",
    "2. read、readline、readlines\n",
    "3. close"
   ]
  },
  {
   "cell_type": "code",
   "execution_count": null,
   "id": "2aab6429-d266-4312-997f-11860b515f26",
   "metadata": {},
   "outputs": [],
   "source": [
    "try:\n",
    "    file = open('./chapter4/test.txt','r')\n",
    "    # lines = file.readlines()\n",
    "    # line = file.readline()\n",
    "    content = file.read()    \n",
    "    print(content)\n",
    "finally:\n",
    "    if file:\n",
    "        file.close()"
   ]
  },
  {
   "cell_type": "markdown",
   "id": "f7e2eeba-28fd-4bf5-b0a6-2d7a57e70f6f",
   "metadata": {},
   "source": [
    "### 4.1.2 写"
   ]
  },
  {
   "cell_type": "markdown",
   "id": "ef15452d-574a-46f7-a255-13cc885a4ff2",
   "metadata": {},
   "source": [
    "写文件时，操作系统往往不会立刻把数据写入磁盘，而是放到内存缓存起来，空闲的时候再慢慢写入。"
   ]
  },
  {
   "cell_type": "code",
   "execution_count": null,
   "id": "9829579f-fa1f-4e7e-bc47-9b061e086f0d",
   "metadata": {},
   "outputs": [],
   "source": [
    "path = './chapter4/test.txt'\n",
    "content = 'Nihao'\n",
    "try:\n",
    "    f = open(path,'a')\n",
    "    f.write(content)\n",
    "finally:\n",
    "    f.close()"
   ]
  },
  {
   "cell_type": "markdown",
   "id": "7eabaef4-3d30-4528-b569-44e46b8f4c55",
   "metadata": {},
   "source": [
    "### 4.1.3 open方法\n",
    "模式\n",
    "+ w\n",
    "+ r\n",
    "+ a 追加"
   ]
  },
  {
   "cell_type": "markdown",
   "id": "62d999f8-21b3-4f74-882d-0ddaac139649",
   "metadata": {},
   "source": [
    "## 4.2 Numpy"
   ]
  },
  {
   "cell_type": "markdown",
   "id": "85552101-60ab-4396-bbbc-bba4371f1796",
   "metadata": {},
   "source": [
    "### 4.2.1 读写csv、txt文件 \n",
    "\n",
    "loadtxt，注意分隔符、编码等问题"
   ]
  },
  {
   "cell_type": "code",
   "execution_count": null,
   "id": "c889c9a2-c4a4-41da-99df-84060063e34d",
   "metadata": {},
   "outputs": [],
   "source": [
    "import numpy as np\n",
    "path = './chapter4/test.csv'\n",
    "csv = np.loadtxt(path, delimiter=',')\n",
    "print(csv)"
   ]
  },
  {
   "cell_type": "code",
   "execution_count": null,
   "id": "659c7f5b-1645-430d-b7a3-859192b8f06d",
   "metadata": {},
   "outputs": [],
   "source": [
    "import numpy as np\n",
    "data = np.ones((3,3))\n",
    "np.savetxt(fname='./chapter4/write.csv',X=data,delimiter=',',encoding='utf-8')"
   ]
  },
  {
   "cell_type": "markdown",
   "id": "b6360c5e-193e-44ef-a426-a1fcc6fd21cb",
   "metadata": {},
   "source": [
    "### 4.2.2 读写二进制文件\n",
    "save"
   ]
  },
  {
   "cell_type": "code",
   "execution_count": null,
   "id": "1d1551b2-ad99-4f04-aab0-9531b104d15e",
   "metadata": {},
   "outputs": [],
   "source": [
    "import numpy as np\n",
    "arr = np.arange(10).reshape(2,5,1)\n",
    "np.save('./chapter4/arr.npy', arr)\n",
    "res = np.load('./chapter4/arr.npy')\n",
    "print(res)"
   ]
  },
  {
   "cell_type": "markdown",
   "id": "c8e46569-cf1b-44d5-949f-45f3e37b3f9e",
   "metadata": {},
   "source": [
    "### 4.2.3 读写`.dat`多维数据文件"
   ]
  },
  {
   "cell_type": "code",
   "execution_count": null,
   "id": "5e40ef57-929b-4045-95e1-836f1b95bc4c",
   "metadata": {},
   "outputs": [],
   "source": [
    "import numpy as np\n",
    "\n",
    "fileName = './chapter4/data.dat'\n",
    "data = np.arange(30).reshape(5,2,3)\n",
    "data.tofile(fileName,sep=',',format='%d')\n",
    "\n",
    "newData = np.fromfile(fileName, dtype=np.int64, sep=',')\n",
    "print(newData)"
   ]
  },
  {
   "cell_type": "markdown",
   "id": "fb496f41-4bb7-431d-9bf2-da1c5c2029b5",
   "metadata": {},
   "source": [
    "## 4.3 Pandas"
   ]
  },
  {
   "cell_type": "markdown",
   "id": "f5cfa5c5-7a95-4b35-8249-0a56f5b9ad78",
   "metadata": {},
   "source": [
    "处理csv文件"
   ]
  },
  {
   "cell_type": "code",
   "execution_count": null,
   "id": "3a8d80fc-46cc-440a-9626-451a71881194",
   "metadata": {},
   "outputs": [],
   "source": [
    "import pandas as pd\n",
    "df = pd.read_csv('./chapter4/test.csv', header=None, delimiter=',')\n",
    "df.to_csv('./chapter4/pandas_test.csv')\n",
    "df.head()"
   ]
  },
  {
   "cell_type": "markdown",
   "id": "94e95a0c-89e5-44f2-9b49-3c952b41e0b3",
   "metadata": {},
   "source": [
    "处理xlxs文件"
   ]
  },
  {
   "cell_type": "code",
   "execution_count": null,
   "id": "d209d67d-59af-4e23-bd98-d1e306c1cdec",
   "metadata": {},
   "outputs": [],
   "source": [
    "import pandas as pd\n",
    "excel = pd.read_excel('./chapter4/table.xlsx', sheet_name='Sheet1', header=0)\n",
    "excel.to_excel('./chapter4/pandas_table.xlsx',sheet_name='Sheet1')\n",
    "excel.head()"
   ]
  },
  {
   "cell_type": "markdown",
   "id": "9572be38-38ee-4090-98b9-6b228b1146c9",
   "metadata": {},
   "source": [
    "# 五、Numpy"
   ]
  },
  {
   "cell_type": "markdown",
   "id": "08a5b7ed-7b1b-43a3-b4ca-f5d197b5c1b3",
   "metadata": {},
   "source": [
    "## 5.1 生成数组"
   ]
  },
  {
   "cell_type": "markdown",
   "id": "00286cd7-eb92-434e-8d93-4d3fc636374d",
   "metadata": {},
   "source": [
    "### ones \n",
    "全是1的矩阵"
   ]
  },
  {
   "cell_type": "code",
   "execution_count": null,
   "id": "a26690fb-7a83-4ffe-91c9-f8ad71001792",
   "metadata": {},
   "outputs": [],
   "source": [
    "import numpy as np\n",
    "\n",
    "matrix1 = np.ones([4,4])\n",
    "matrix1"
   ]
  },
  {
   "cell_type": "markdown",
   "id": "4206633b-d9d8-4ec2-ab32-3e21bbded7e3",
   "metadata": {},
   "source": [
    "### zeros_like(matrix) \n",
    "以matirx为规格生成全是元素0的矩阵"
   ]
  },
  {
   "cell_type": "code",
   "execution_count": null,
   "id": "9f898577-3b34-426b-ac75-fd06927db527",
   "metadata": {},
   "outputs": [],
   "source": [
    "import numpy as np\n",
    "\n",
    "matrix1 = np.ones([4,4])\n",
    "matrix2 = np.zeros_like(matrix1)\n",
    "matrix2"
   ]
  },
  {
   "cell_type": "markdown",
   "id": "9638f2ab-1ddc-498c-b29a-2bbbcf53df02",
   "metadata": {},
   "source": [
    "### np.array(arr) \n",
    "\n",
    "复制，生成新数组"
   ]
  },
  {
   "cell_type": "code",
   "execution_count": null,
   "id": "d693b953-2f0e-4f2f-ab7d-d75390c05302",
   "metadata": {},
   "outputs": [],
   "source": [
    "import numpy as np\n",
    "\n",
    "arr = [[1,2],[3,4]]\n",
    "arr1 = np.array(arr)\n",
    "arr1"
   ]
  },
  {
   "cell_type": "markdown",
   "id": "fe7973cb-88f4-4d1c-8ad9-c4f229a5e43b",
   "metadata": {},
   "source": [
    "### np.asarray(arr)\n",
    "\n",
    "非必要不复制numpy数组，直接返回原np数组。"
   ]
  },
  {
   "cell_type": "code",
   "execution_count": null,
   "id": "51a88e9b-22f6-4a43-97e0-308f2946ba3a",
   "metadata": {},
   "outputs": [],
   "source": [
    "import numpy as np\n",
    "\n",
    "arr = np.array([[1,2],[3,4]])\n",
    "arr2 = np.asarray(arr)\n",
    "arr[1][1] = 99\n",
    "print(arr)\n",
    "print(arr2)\n",
    "print(arr2 is arr)"
   ]
  },
  {
   "cell_type": "markdown",
   "id": "9aeee89e-869d-4a0e-96a4-9e8421b6f8d3",
   "metadata": {},
   "source": [
    "### np.random.normal\n",
    "生成服从正太分布的随机数数组"
   ]
  },
  {
   "cell_type": "code",
   "execution_count": null,
   "id": "0d2459de-6a3f-4625-9cae-6f41ae712033",
   "metadata": {},
   "outputs": [],
   "source": [
    "import numpy as np\n",
    "\n",
    "arr = np.random.normal(2,1,20) # 均值2、标准差1、20个\n",
    "arr"
   ]
  },
  {
   "cell_type": "markdown",
   "id": "0c6e8cb2-c7dc-41a7-992a-79240249024c",
   "metadata": {},
   "source": [
    "### np.arange(start, stop, step) \n",
    "生成固定范围的数组[start, stop)"
   ]
  },
  {
   "cell_type": "code",
   "execution_count": null,
   "id": "5588126e-f850-47de-bb97-31165d631851",
   "metadata": {},
   "outputs": [],
   "source": [
    "arr = np.arange(10)\n",
    "arr"
   ]
  },
  {
   "cell_type": "markdown",
   "id": "bc56684a-800e-4fbc-9a85-bc17fdedb817",
   "metadata": {},
   "source": [
    "### np.random.rand()\n",
    "生成服从(0, 1]均匀分布的随机数"
   ]
  },
  {
   "cell_type": "code",
   "execution_count": null,
   "id": "b7ea0ebd-3e19-45b3-b46b-5a850fa0218e",
   "metadata": {},
   "outputs": [],
   "source": [
    "import numpy as np\n",
    "arr = np.random.rand(5)\n",
    "\n",
    "arr"
   ]
  },
  {
   "cell_type": "markdown",
   "id": "58b1efc6-f776-40fe-a543-330e6f27bcf0",
   "metadata": {},
   "source": [
    "### np.random.randn()\n",
    "randn(m)从标准正态分布中返回m个值"
   ]
  },
  {
   "cell_type": "markdown",
   "id": "99656b5d-81c1-4c16-be93-8c5b80e5a684",
   "metadata": {},
   "source": [
    "### np.linspace(start, stop, num)\n",
    "生成指定数量的等间距数值"
   ]
  },
  {
   "cell_type": "markdown",
   "id": "1f5c980d-16d1-4f5a-beb9-b3cb22450996",
   "metadata": {},
   "source": [
    "## 5.2 索引与切片 "
   ]
  },
  {
   "cell_type": "markdown",
   "id": "aa4442c2-b2b9-4d84-a16a-217ac082ba18",
   "metadata": {},
   "source": [
    "list和ndarray索引不同，list只可以[0][1]而ndarray可以[0,1]"
   ]
  },
  {
   "cell_type": "code",
   "execution_count": null,
   "id": "b9f96452-f47c-4db8-a851-209e798f5247",
   "metadata": {},
   "outputs": [],
   "source": [
    "# 导入模块\n",
    "import numpy as np\n",
    "arr = [[[1,2,3],[4,5,6]],[[7,8,9],[10,11,12]]]\n",
    "arr2 = np.array(arr)\n",
    "print(arr2)\n",
    "print(arr2[0,:])\n",
    "print(arr2[0][:])\n",
    "\n",
    "print(arr[0][:])"
   ]
  },
  {
   "cell_type": "markdown",
   "id": "ddacb519-5f21-48ee-be3c-e0aedc350abd",
   "metadata": {},
   "source": [
    "## 5.3 形状修改\n"
   ]
  },
  {
   "cell_type": "markdown",
   "id": "918826ca-4713-44ba-9628-e987ce2c57a6",
   "metadata": {},
   "source": [
    "### 转置"
   ]
  },
  {
   "cell_type": "code",
   "execution_count": null,
   "id": "0312e3bb-afb2-4482-9476-362f8c0870d7",
   "metadata": {},
   "outputs": [],
   "source": [
    "import numpy as np\n",
    "arr = np.array([[1,2],[3,4]])\n",
    "arr.T"
   ]
  },
  {
   "cell_type": "markdown",
   "id": "26d5d13e-f500-4ee3-b018-cb5a62e1034b",
   "metadata": {},
   "source": [
    "### 扁平化 \n",
    "+ reshape([row,col])\n",
    "原数组不变，返回新数组\n",
    "+ resize\n",
    "直接改变原数组，方法同reshape"
   ]
  },
  {
   "cell_type": "code",
   "execution_count": null,
   "id": "10585edd-b187-4e01-a2df-664a8d6b98dd",
   "metadata": {},
   "outputs": [],
   "source": [
    "import numpy as np\n",
    "arr = np.array([[1,2],[3,4]])\n",
    "\n",
    "new_arr = arr.reshape([1,4])\n",
    "new_arr"
   ]
  },
  {
   "cell_type": "code",
   "execution_count": null,
   "id": "aa1c8c28-6736-4566-b925-9bb5fba694f3",
   "metadata": {},
   "outputs": [],
   "source": [
    "import numpy as np\n",
    "arr = np.array([[1,2],[3,4]])\n",
    "arr.resize([1,4])\n",
    "print(arr)"
   ]
  },
  {
   "cell_type": "markdown",
   "id": "fdca714f-de40-4be8-8e8e-0972098644b6",
   "metadata": {},
   "source": [
    "### 复制\n",
    "+ repeat(arr,reps,axis)\n",
    "  1. reps: ele重复的次数\n",
    "  2. 默认axis扁平化，0、1表示copy的方向x轴、y轴\n",
    "+ tile(arr,reps)\n",
    "  主要是复制整个块，而不是元素"
   ]
  },
  {
   "cell_type": "code",
   "execution_count": null,
   "id": "10202e02-5ef5-4c0e-aecc-22a282cc23eb",
   "metadata": {},
   "outputs": [],
   "source": [
    "arr = np.array([[1,2],[3,4]])\n",
    "flat_arr = np.repeat(arr,2,1)\n",
    "print(flat_arr)\n",
    "\n",
    "flat_arr2 = np.tile(arr,2)\n",
    "print(flat_arr2)\n",
    "\n",
    "flat_arr3 = np.tile(arr,(3,2)) # 行3次，列2次\n",
    "print(flat_arr3)"
   ]
  },
  {
   "cell_type": "markdown",
   "id": "52aa1937-b927-4cbf-9cad-20eb6332dea8",
   "metadata": {},
   "source": [
    "### 拼接\n",
    "np.concatenate((a, b), axis)\n",
    "\n",
    "注意：\n",
    "+ np.concatenate((a, b), 0) 与np.vstack((a, b))一样\n",
    "+ np.concatenate((a, b), 1) 与np.hstack((a, b))一样"
   ]
  },
  {
   "cell_type": "code",
   "execution_count": null,
   "id": "1d927a6d-5b6c-487f-8e90-025c70991a7e",
   "metadata": {},
   "outputs": [],
   "source": [
    "arr1 = [[1,2],[3,4]]\n",
    "arr2 = [[2,1],[4,3]]\n",
    "\n",
    "res = np.concatenate((arr1,arr2),0) # 纵向copy\n",
    "res2 = np.concatenate((arr1,arr2),1) # 横向copy\n",
    "print(res)\n",
    "print(res2)"
   ]
  },
  {
   "cell_type": "markdown",
   "id": "d1c87451-d49b-4ca8-ace6-b504f52bf6ae",
   "metadata": {},
   "source": [
    "## 5.4 修改类型\n",
    "+ astype"
   ]
  },
  {
   "cell_type": "code",
   "execution_count": null,
   "id": "b54e4de9-0a0f-4a5a-ab7e-f809c003512e",
   "metadata": {},
   "outputs": [],
   "source": [
    "arr = np.array([[1,2],[3,4]])\n",
    "\n",
    "str_arr = arr.astype(np.str_)\n",
    "print(str_arr)"
   ]
  },
  {
   "cell_type": "markdown",
   "id": "cf2d491c-7f37-4e30-8029-ba765bc5d3a1",
   "metadata": {},
   "source": [
    "## 5.5 通用函数"
   ]
  },
  {
   "cell_type": "markdown",
   "id": "6c7a8e4c-75bf-4721-8b60-5639a5bfbe5a",
   "metadata": {},
   "source": [
    "### 去重 unique(arr,axis)"
   ]
  },
  {
   "cell_type": "code",
   "execution_count": null,
   "id": "78ddf5ab-3472-4796-95b1-cdd200d14302",
   "metadata": {},
   "outputs": [],
   "source": [
    "arr = np.array([[[1,2],[3,4]],[[1,2],[3,4]]])\n",
    "unique_arr = np.unique(arr,axis=0)\n",
    "\n",
    "print(unique_arr)"
   ]
  },
  {
   "cell_type": "markdown",
   "id": "98f682e6-9dc0-454b-93c4-a1d2dfa8f16f",
   "metadata": {},
   "source": [
    "### 交集与并集"
   ]
  },
  {
   "cell_type": "code",
   "execution_count": null,
   "id": "56559e29-61e4-4bc4-a53d-acc6bacb2385",
   "metadata": {},
   "outputs": [],
   "source": [
    "arr = [[0,1,2],[3,4,5]]\n",
    "arr2 = [[3,4,5],[0,6,7]]\n",
    "\n",
    "# 交集\n",
    "intersectionArr = np.intersect1d(arr,arr2)\n",
    "# 并集\n",
    "unionArr = np.union1d(arr,arr2)\n",
    "\n",
    "print(f'交集：{intersectionArr}，并集：{unionArr}')"
   ]
  },
  {
   "cell_type": "markdown",
   "id": "53fb961c-1d88-4611-be07-a1fc9e55da06",
   "metadata": {},
   "source": [
    "### 绝对值 abs"
   ]
  },
  {
   "cell_type": "markdown",
   "id": "d8dccc76-1f1c-403a-a2eb-3e355343b1d8",
   "metadata": {},
   "source": [
    "### 平方根 sqrt"
   ]
  },
  {
   "cell_type": "code",
   "execution_count": null,
   "id": "3b3b7ffd-19f0-4a27-8199-88b7503ba4db",
   "metadata": {},
   "outputs": [],
   "source": [
    "arr = [1,2,3,4,5]\n",
    "res = np.sqrt(arr)\n",
    "\n",
    "res"
   ]
  },
  {
   "cell_type": "markdown",
   "id": "230b12a8-fbd8-444b-b065-42b81f9bbced",
   "metadata": {},
   "source": [
    "### 平方 square"
   ]
  },
  {
   "cell_type": "markdown",
   "id": "487635c6-ef84-4709-94d7-89b9cc8b5189",
   "metadata": {},
   "source": [
    "### 判断元素是否为空值"
   ]
  },
  {
   "cell_type": "code",
   "execution_count": null,
   "id": "3b2af6ab-1255-4b7a-acc1-730c57bf7240",
   "metadata": {},
   "outputs": [],
   "source": [
    "arr = [1,2, np.nan,4]\n",
    "res = np.isnan(arr)\n",
    "\n",
    "res"
   ]
  },
  {
   "cell_type": "markdown",
   "id": "3588b28f-2df8-490a-a1b0-e19c882b4c3a",
   "metadata": {},
   "source": [
    "### 筛选 where\n",
    "\n",
    "where函数一般有两种使用方式：\n",
    "+ 单参数用法（np.where(condition)）:当只传入一个条件数组时，where函数会返回满足该条件的元素的索引。\n",
    "+ 三参数用法（np.where(condition, x, y)）:当传入一个条件数组和两个数组（或标量）时，where函数会根据条件数组中的元素是True还是False，分别从第一个或第二个数组（或标量）中选取元素。"
   ]
  },
  {
   "cell_type": "code",
   "execution_count": null,
   "id": "f9a3ff9e-1f41-4d17-bd79-ec58b8ae33b8",
   "metadata": {},
   "outputs": [],
   "source": [
    "arr = np.arange(10)\n",
    "res = np.where(arr >= 5, 1, 0)\n",
    "\n",
    "res"
   ]
  },
  {
   "cell_type": "code",
   "execution_count": null,
   "id": "f56df1be-c994-4c4a-970d-451aa00d98ed",
   "metadata": {},
   "outputs": [],
   "source": [
    "arr = np.array([1,2,3,4,5,6])\n",
    "res = np.where(arr > 3)\n",
    "\n",
    "res"
   ]
  },
  {
   "cell_type": "markdown",
   "id": "815bc18e-c037-4f03-afb0-40064528d062",
   "metadata": {},
   "source": [
    "### 三角函数\n",
    "+ sin\n",
    "+ cos\n",
    "+ tan"
   ]
  },
  {
   "cell_type": "markdown",
   "id": "20f568a9-4d23-46de-adf6-44ab9ec66747",
   "metadata": {},
   "source": [
    "## 5.6 线性代数"
   ]
  },
  {
   "cell_type": "markdown",
   "id": "a300fdfc-cad9-4fc9-9f01-912a62454532",
   "metadata": {},
   "source": [
    "### 对角阵 diag\n",
    "创建对角矩阵和提取二维数组的对角线元素。"
   ]
  },
  {
   "cell_type": "code",
   "execution_count": null,
   "id": "31a4f498-e69d-471f-ba94-88186c3c58ba",
   "metadata": {},
   "outputs": [],
   "source": [
    "arr = [1,2,3]\n",
    "res = np.diag(arr)\n",
    "\n",
    "arr2 = [[1,5,7],[3,6,9],[4,6,8]]\n",
    "res2 = np.diag(arr2)\n",
    "\n",
    "print(res)\n",
    "print(res2)"
   ]
  },
  {
   "cell_type": "markdown",
   "id": "d98eabf2-2ea6-48a7-bbff-e523aca8844b",
   "metadata": {},
   "source": [
    "### 求迹 trace"
   ]
  },
  {
   "cell_type": "code",
   "execution_count": null,
   "id": "b60de9d1-100f-486c-b7f6-d890b511fd60",
   "metadata": {},
   "outputs": [],
   "source": [
    "arr = [[1,5,7],[3,6,9],[4,6,8]]\n",
    "trace = np.trace(arr)\n",
    "\n",
    "trace"
   ]
  },
  {
   "cell_type": "markdown",
   "id": "ec84563e-a8bd-42ea-b1b8-84888cdca8f6",
   "metadata": {},
   "source": [
    "### 矩阵乘积 dot"
   ]
  },
  {
   "cell_type": "code",
   "execution_count": null,
   "id": "2584250c-9376-4e47-9a45-2bbfea0bf270",
   "metadata": {},
   "outputs": [],
   "source": [
    "a=[[1,2],[3,4]]\n",
    "b=[[2,3],[4,5]]\n",
    "res = np.dot(a,b)\n",
    "print(res)"
   ]
  },
  {
   "cell_type": "markdown",
   "id": "a42a2f33-0512-4d5e-8d36-ba2947fe42de",
   "metadata": {},
   "source": [
    "### 行列式 det"
   ]
  },
  {
   "cell_type": "markdown",
   "id": "d7b2d61c-17f9-4cde-95f0-3c136829ff83",
   "metadata": {},
   "source": [
    "### 特征值、特征向量 linalg.eig"
   ]
  },
  {
   "cell_type": "code",
   "execution_count": null,
   "id": "3f04f9f4-1e02-4cd2-8df2-6f570da0649d",
   "metadata": {},
   "outputs": [],
   "source": [
    "arr = [[2,1],[1,2]]\n",
    "eig = np.linalg.eig(arr)\n",
    "\n",
    "print(f'特征值：{eig[0]},特征向量{eig[1]}')"
   ]
  },
  {
   "cell_type": "markdown",
   "id": "36817529-2013-4927-89f7-4e9c5c9c3404",
   "metadata": {},
   "source": [
    "### 矩阵的逆 linalg.inv"
   ]
  },
  {
   "cell_type": "markdown",
   "id": "588aca97-8500-4547-bf4f-c6fc1069d64d",
   "metadata": {},
   "source": [
    "### 求解线性方程组 linalg.solve\n",
    "求解线性方程组 Ax=b的解"
   ]
  },
  {
   "cell_type": "code",
   "execution_count": null,
   "id": "677252e6-da69-4d8d-b8c6-d3ca7b242625",
   "metadata": {},
   "outputs": [],
   "source": [
    "A = np.array([[3,1],[1,2]])\n",
    "b = np.array([9,8])\n",
    "svd = np.linalg.solve(A,b)\n",
    "print('解：',svd)\n",
    "\n",
    "# 验证\n",
    "print(np.dot(A,svd))"
   ]
  },
  {
   "cell_type": "markdown",
   "id": "ea36d304-1cdc-4db4-b99d-f393f8b4beb8",
   "metadata": {},
   "source": [
    "### 矩阵的奇异值分解\n",
    "\n",
    "np.linalg.svd(a, full_matrices = 1, compute_uv = 1)可以用于矩阵的奇异值分解，返回该矩阵的左奇异值（u）、奇异值（s）、右奇异值（v）"
   ]
  },
  {
   "cell_type": "markdown",
   "id": "0d9cf618-8115-43ae-963c-843cb275d74b",
   "metadata": {},
   "source": [
    "## 5.7 统计分析"
   ]
  },
  {
   "cell_type": "markdown",
   "id": "b8fd3e5f-375f-46df-bcb8-205d0f56f362",
   "metadata": {},
   "source": [
    "### 沿指定轴的和 sum\n",
    "np.sum(a, axis)"
   ]
  },
  {
   "cell_type": "code",
   "execution_count": null,
   "id": "89702502-5018-41fd-b8cc-c0650f4ed79b",
   "metadata": {},
   "outputs": [],
   "source": [
    "arr = [[1,2],[3,4]]\n",
    "res = np.sum(arr, 0)\n",
    "\n",
    "print(res)"
   ]
  },
  {
   "cell_type": "markdown",
   "id": "b79d8a06-04ba-48d1-b1ee-25871fa08e47",
   "metadata": {},
   "source": [
    "### 沿指定轴平均值 mean\n",
    "np.mean(a,axis)"
   ]
  },
  {
   "cell_type": "markdown",
   "id": "3f14655c-44ff-4aeb-9bee-26994d2e1b08",
   "metadata": {},
   "source": [
    "### 指定轴最大、最小值\n",
    "+ np.min(axis)\n",
    "+ np.max(axis)"
   ]
  },
  {
   "cell_type": "markdown",
   "id": "06f91236-dbb9-4986-be20-f7560b30fad2",
   "metadata": {},
   "source": [
    "### 标准差 std(arr,axis)\n",
    "### 方差 var(arr,axis)"
   ]
  },
  {
   "cell_type": "markdown",
   "id": "6de13f52-a407-404e-8d9d-e8dd5e1c4ba4",
   "metadata": {},
   "source": [
    "### 沿指定轴最大、小值索引\n",
    "+ argmin(arr, axis)\n",
    "+ argmax(arr, axis)"
   ]
  },
  {
   "cell_type": "code",
   "execution_count": null,
   "id": "1c352376-edc1-4acc-8c08-81a93fe5dfe7",
   "metadata": {},
   "outputs": [],
   "source": [
    "arr = np.array([[1,2],[3,5]])\n",
    "res = np.argmax(arr, 0)\n",
    "\n",
    "res"
   ]
  },
  {
   "cell_type": "markdown",
   "id": "996845ef-ab96-460b-80ad-23f56d24a3bd",
   "metadata": {},
   "source": [
    "# 六、Pandas"
   ]
  },
  {
   "cell_type": "code",
   "execution_count": null,
   "id": "0427a89c-c6ef-4dac-b179-acd5f8b703c5",
   "metadata": {},
   "outputs": [],
   "source": [
    "import pandas as pd\n",
    "import numpy as np"
   ]
  },
  {
   "cell_type": "markdown",
   "id": "87febd5e-e19e-4468-9b65-5e2776d242d6",
   "metadata": {},
   "source": [
    "## 6.1 Series\n",
    "Series是Pandas的核心数据结构之一，是一维数据结构。包含两个部分：index、values，基础结构都是ndarray。"
   ]
  },
  {
   "cell_type": "markdown",
   "id": "9e3e4a57-15ce-4eb9-a5c0-b10bb40b370e",
   "metadata": {},
   "source": [
    "### 6.1.1 创建"
   ]
  },
  {
   "cell_type": "code",
   "execution_count": null,
   "id": "f7682184-1839-4f7b-ab27-825ddb42bc96",
   "metadata": {},
   "outputs": [],
   "source": [
    "dict = {'a':10, 'b':2, 'c':3}\n",
    "data = pd.Series(dict)\n",
    "\n",
    "data2 = pd.Series([1,2,3], index=['A','B','C'])\n",
    "data2"
   ]
  },
  {
   "cell_type": "markdown",
   "id": "40e336c0-108d-462a-a64f-8ee7a9f8164f",
   "metadata": {},
   "source": [
    "### 6.1.2 访问\n",
    "可下标、也可通过key"
   ]
  },
  {
   "cell_type": "code",
   "execution_count": null,
   "id": "c99875d9-b77f-49b0-b0a7-7f35e9203c79",
   "metadata": {},
   "outputs": [],
   "source": [
    "dict = {'a':10, 'b':2, 'c':3}\n",
    "data = pd.Series(dict)\n",
    "\n",
    "print(data['a'], data[1])"
   ]
  },
  {
   "cell_type": "markdown",
   "id": "cf791ca0-397c-4e53-8835-9346ad7dcedc",
   "metadata": {},
   "source": [
    "### 6.1.3 修改索引 index"
   ]
  },
  {
   "cell_type": "code",
   "execution_count": null,
   "id": "e8797b21-2d73-4ccb-86a1-f152e32c3ccd",
   "metadata": {},
   "outputs": [],
   "source": [
    "dict = {'a':10, 'b':2, 'c':3}\n",
    "data = pd.Series(dict)\n",
    "data.index = ['O','P','Q']\n",
    "\n",
    "data"
   ]
  },
  {
   "cell_type": "markdown",
   "id": "86da67ec-402e-45e5-9122-824f115d3adc",
   "metadata": {},
   "source": [
    "### 6.1.4 拼接 concat"
   ]
  },
  {
   "cell_type": "code",
   "execution_count": null,
   "id": "cd4b2b43-be05-4756-9426-f85a6b694950",
   "metadata": {},
   "outputs": [],
   "source": [
    "data1 = pd.Series({'A':1,'BB':2})\n",
    "data2 = pd.Series(['O','PP','QQ'],index=['R','S','T'])\n",
    "\n",
    "data = pd.concat([data1,data2])\n",
    "data"
   ]
  },
  {
   "cell_type": "markdown",
   "id": "98e270e5-4e6c-4858-b5c1-8b27b02bea62",
   "metadata": {},
   "source": [
    "## 6.2 DataFrame\n",
    "类似Excel表格的二维数据结构"
   ]
  },
  {
   "cell_type": "markdown",
   "id": "25c17f84-e45f-4529-b3c6-1df23bc972e9",
   "metadata": {},
   "source": [
    "### 6.2.1 创建 "
   ]
  },
  {
   "cell_type": "code",
   "execution_count": 3,
   "id": "1e9ba5f6-f6a8-4fef-9a92-af751a9393ab",
   "metadata": {},
   "outputs": [
    {
     "data": {
      "text/html": [
       "<div>\n",
       "<style scoped>\n",
       "    .dataframe tbody tr th:only-of-type {\n",
       "        vertical-align: middle;\n",
       "    }\n",
       "\n",
       "    .dataframe tbody tr th {\n",
       "        vertical-align: top;\n",
       "    }\n",
       "\n",
       "    .dataframe thead th {\n",
       "        text-align: right;\n",
       "    }\n",
       "</style>\n",
       "<table border=\"1\" class=\"dataframe\">\n",
       "  <thead>\n",
       "    <tr style=\"text-align: right;\">\n",
       "      <th></th>\n",
       "      <th>X</th>\n",
       "      <th>Y</th>\n",
       "      <th>Z</th>\n",
       "    </tr>\n",
       "  </thead>\n",
       "  <tbody>\n",
       "    <tr>\n",
       "      <th>A</th>\n",
       "      <td>0.883420</td>\n",
       "      <td>0.997401</td>\n",
       "      <td>0.645058</td>\n",
       "    </tr>\n",
       "    <tr>\n",
       "      <th>B</th>\n",
       "      <td>0.716311</td>\n",
       "      <td>0.877419</td>\n",
       "      <td>0.165533</td>\n",
       "    </tr>\n",
       "    <tr>\n",
       "      <th>C</th>\n",
       "      <td>0.842964</td>\n",
       "      <td>0.010090</td>\n",
       "      <td>0.063684</td>\n",
       "    </tr>\n",
       "  </tbody>\n",
       "</table>\n",
       "</div>"
      ],
      "text/plain": [
       "          X         Y         Z\n",
       "A  0.883420  0.997401  0.645058\n",
       "B  0.716311  0.877419  0.165533\n",
       "C  0.842964  0.010090  0.063684"
      ]
     },
     "metadata": {},
     "output_type": "display_data"
    },
    {
     "data": {
      "text/html": [
       "<div>\n",
       "<style scoped>\n",
       "    .dataframe tbody tr th:only-of-type {\n",
       "        vertical-align: middle;\n",
       "    }\n",
       "\n",
       "    .dataframe tbody tr th {\n",
       "        vertical-align: top;\n",
       "    }\n",
       "\n",
       "    .dataframe thead th {\n",
       "        text-align: right;\n",
       "    }\n",
       "</style>\n",
       "<table border=\"1\" class=\"dataframe\">\n",
       "  <thead>\n",
       "    <tr style=\"text-align: right;\">\n",
       "      <th></th>\n",
       "      <th>A</th>\n",
       "      <th>B</th>\n",
       "    </tr>\n",
       "  </thead>\n",
       "  <tbody>\n",
       "    <tr>\n",
       "      <th>0</th>\n",
       "      <td>1</td>\n",
       "      <td>3</td>\n",
       "    </tr>\n",
       "    <tr>\n",
       "      <th>1</th>\n",
       "      <td>2</td>\n",
       "      <td>4</td>\n",
       "    </tr>\n",
       "  </tbody>\n",
       "</table>\n",
       "</div>"
      ],
      "text/plain": [
       "   A  B\n",
       "0  1  3\n",
       "1  2  4"
      ]
     },
     "metadata": {},
     "output_type": "display_data"
    }
   ],
   "source": [
    "import numpy as np\n",
    "import pandas as pd\n",
    "matrix = np.random.rand(3,3)\n",
    "df = pd.DataFrame(matrix,index=list('ABC'),columns=list('XYZ'))\n",
    "\n",
    "display(df)\n",
    "\n",
    "df1 = pd.DataFrame({'A': [1, 2], 'B': [3, 4]})\n",
    "display(df1)"
   ]
  },
  {
   "cell_type": "markdown",
   "id": "c6f37071-2d20-481b-8121-f9cf953c19e4",
   "metadata": {},
   "source": [
    "### 6.2.2 列操作\n",
    "#### 基础\n",
    "1. df[index] = [,,,]\n",
    "2. df.index\n",
    "3. 按序号：df.iloc[:,:]\n",
    "4. 按索引：df.loc[:, :]"
   ]
  },
  {
   "cell_type": "code",
   "execution_count": null,
   "id": "c873508c-8fe7-4776-b87a-6ded90b7b928",
   "metadata": {},
   "outputs": [],
   "source": [
    "print(df[['X','Y']])\n",
    "\n",
    "print(df.iloc[:,1:2]) # 左闭右开"
   ]
  },
  {
   "cell_type": "code",
   "execution_count": null,
   "id": "e20009f7-b7ac-421e-8789-d0bd50076df0",
   "metadata": {},
   "outputs": [],
   "source": [
    "df['SSS'] = [1,1,1]\n",
    "df"
   ]
  },
  {
   "cell_type": "markdown",
   "id": "2536196d-4c55-4024-9c9d-03146aa5df96",
   "metadata": {},
   "source": [
    "#### 删除 del"
   ]
  },
  {
   "cell_type": "code",
   "execution_count": null,
   "id": "668eb677-bbaa-43ff-a548-f29f35311a9b",
   "metadata": {},
   "outputs": [],
   "source": [
    "del df['SSS']\n",
    "\n",
    "df"
   ]
  },
  {
   "cell_type": "markdown",
   "id": "a2a90ae4-c3d5-436c-8709-78ebd5da5405",
   "metadata": {},
   "source": [
    "### 6.2.3 行操作\n",
    "#### 基础\n",
    "1. iloc[][]\n",
    "2. loc[][]"
   ]
  },
  {
   "cell_type": "code",
   "execution_count": null,
   "id": "f2bef9bb-534a-46fe-bbd4-d6a47b8ce6da",
   "metadata": {},
   "outputs": [],
   "source": [
    "x = df.iloc[0]\n",
    "x"
   ]
  },
  {
   "cell_type": "markdown",
   "id": "dd2daf58-e509-47ee-9d35-20a928e752f7",
   "metadata": {},
   "source": [
    "#### 创建"
   ]
  },
  {
   "cell_type": "code",
   "execution_count": null,
   "id": "6be21cd6-ac30-4f4f-8321-3cbdc1c78e0a",
   "metadata": {},
   "outputs": [],
   "source": [
    "se = pd.Series([1,2,3],index=list('XYZ'),name='t')\n",
    "newDf = pd.concat([df, se.to_frame().T])\n",
    "\n",
    "print(newDf)"
   ]
  },
  {
   "cell_type": "markdown",
   "id": "24abb313-0daf-45b8-98ef-7d6791845ba6",
   "metadata": {},
   "source": [
    "#### 删除"
   ]
  },
  {
   "cell_type": "code",
   "execution_count": null,
   "id": "f9dde9c2-8f49-4bc0-bb07-f51ef4c9878e",
   "metadata": {},
   "outputs": [],
   "source": [
    "newDf.drop(['A'],axis=0)"
   ]
  },
  {
   "cell_type": "markdown",
   "id": "5575e0f5-3573-4a3d-a9e8-85a2a2f8f53a",
   "metadata": {},
   "source": [
    "### 6.2.4 数据查询 "
   ]
  },
  {
   "cell_type": "code",
   "execution_count": null,
   "id": "d75f7d42-c31f-4168-b78d-3326b9c5f76d",
   "metadata": {},
   "outputs": [],
   "source": [
    "arr = np.array([[1,2,3],[4,5,6],[7,8,9]])\n",
    "df = pd.DataFrame(arr, index=list('123'),columns=list('ABC'))\n",
    "\n",
    "display(df)"
   ]
  },
  {
   "cell_type": "markdown",
   "id": "4ed3dcc1-8627-4d4f-ac42-318c81fb3ec2",
   "metadata": {},
   "source": [
    "#### 按区间范围"
   ]
  },
  {
   "cell_type": "code",
   "execution_count": null,
   "id": "e4e349b0-1e12-4dfe-9a41-f448fc04a30c",
   "metadata": {},
   "outputs": [],
   "source": [
    "df.loc['1':'2','A']"
   ]
  },
  {
   "cell_type": "markdown",
   "id": "6ccc6368-5458-48bd-a271-41eadb66c485",
   "metadata": {},
   "source": [
    "#### 按条件表达"
   ]
  },
  {
   "cell_type": "code",
   "execution_count": null,
   "id": "16e4ed16-6d0e-44ea-a137-2d3a4ea75be9",
   "metadata": {},
   "outputs": [],
   "source": [
    "df.loc[df['C']>=6,:]"
   ]
  },
  {
   "cell_type": "markdown",
   "id": "03afc50a-6318-454c-b46c-56a09e91ce2e",
   "metadata": {},
   "source": [
    "#### 按值查询"
   ]
  },
  {
   "cell_type": "code",
   "execution_count": null,
   "id": "59bc634d-e56d-4c78-b741-3c9ca2c5c0d9",
   "metadata": {},
   "outputs": [],
   "source": [
    "df.loc['1','C']"
   ]
  },
  {
   "cell_type": "markdown",
   "id": "df040bfe-ee7c-4515-aa18-4cc37c008e9e",
   "metadata": {},
   "source": [
    "#### 按列表"
   ]
  },
  {
   "cell_type": "code",
   "execution_count": null,
   "id": "b3ad0a47-b392-43f5-98e2-1c61fb2e291d",
   "metadata": {},
   "outputs": [],
   "source": [
    "df.loc[['1','2'],['C','B']]"
   ]
  },
  {
   "cell_type": "markdown",
   "id": "347be4b9-71d6-4d3e-82d8-643006f373be",
   "metadata": {},
   "source": [
    "#### 按自定义函数查找"
   ]
  },
  {
   "cell_type": "code",
   "execution_count": null,
   "id": "47c0d29e-d0c8-4652-8cb1-5bc10f6b689c",
   "metadata": {},
   "outputs": [],
   "source": [
    "df.loc[lambda df: df['C'] > 5, :]"
   ]
  },
  {
   "cell_type": "markdown",
   "id": "4d858473-8bff-4ed2-a04d-76d8c99fe8c0",
   "metadata": {},
   "source": [
    "### 6.2.5 数据统计"
   ]
  },
  {
   "cell_type": "code",
   "execution_count": null,
   "id": "25c6b333-d77f-4e06-9391-3b4627cf34f2",
   "metadata": {},
   "outputs": [],
   "source": [
    "df = pd.DataFrame(np.random.rand(3,3),columns=list('ABC'),index=[1,2,3])\n",
    "df"
   ]
  },
  {
   "cell_type": "markdown",
   "id": "c188b080-13a8-44bc-bb9e-82ccbbb6558c",
   "metadata": {},
   "source": [
    "#### 排序\n",
    "注意，此时index需要是int类型"
   ]
  },
  {
   "cell_type": "code",
   "execution_count": null,
   "id": "8f24314c-dc2b-496a-8ac7-8d8e07fe8d47",
   "metadata": {},
   "outputs": [],
   "source": [
    "df2 = df.sort_index(ascending=False) # ascending=True 升序\n",
    "df2"
   ]
  },
  {
   "cell_type": "markdown",
   "id": "2712b7e9-f9b7-417e-88de-1897f3bb7fde",
   "metadata": {},
   "source": [
    "#### 统计指标"
   ]
  },
  {
   "cell_type": "code",
   "execution_count": null,
   "id": "68eb8fd7-095b-48ff-8db5-e078fe4da25d",
   "metadata": {},
   "outputs": [],
   "source": [
    "file = pd.read_csv('./pandas/test1.CSV')\n",
    "display(file)\n",
    "\n",
    "file.describe()\n",
    "\n",
    "# print(file['size'].mean())"
   ]
  },
  {
   "cell_type": "markdown",
   "id": "ed4531d3-0899-4bbb-90c2-7b59c65a4c5a",
   "metadata": {},
   "source": [
    "#### 分类汇总\n",
    "GroupBy可以计算目标类别的统计特征，例如按“place_of_production”、“level”将物品分类，并计算所有数字列的统计特征"
   ]
  },
  {
   "cell_type": "code",
   "execution_count": null,
   "id": "23d8d4a0-3718-461e-9d7f-358744095f11",
   "metadata": {},
   "outputs": [],
   "source": [
    "file2 = pd.read_csv('./pandas/test2.CSV')\n",
    "\n",
    "display(file2)\n",
    "file2.groupby(['place_of_production','level']).describe()"
   ]
  },
  {
   "cell_type": "markdown",
   "id": "524ff0af-f59b-4a1a-88f4-87b6a4e935fb",
   "metadata": {},
   "source": [
    "按place_of_production、level排序，分析number的均值、和"
   ]
  },
  {
   "cell_type": "code",
   "execution_count": null,
   "id": "7c170115-58e3-4fd4-b2be-355dca221490",
   "metadata": {},
   "outputs": [],
   "source": [
    "file2.groupby(['place_of_production','level'])['number'].agg([np.mean, np.sum])"
   ]
  },
  {
   "cell_type": "code",
   "execution_count": null,
   "id": "2df85822-4387-4284-89b6-c92478eae966",
   "metadata": {},
   "outputs": [],
   "source": [
    "df3 = file2.groupby('place_of_production')\n",
    "\n",
    "display(df3.describe())\n",
    "\n",
    "for name, group in df3:\n",
    "    print(name)\n",
    "    print(group)\n",
    "    print('=============')"
   ]
  },
  {
   "cell_type": "markdown",
   "id": "2f597719-eafb-4ff8-88c6-ae49f507bc16",
   "metadata": {},
   "source": [
    "### 6.2.6 常用方法"
   ]
  },
  {
   "cell_type": "markdown",
   "id": "5cd5818e-556d-4daa-962b-7abe45c4e1dd",
   "metadata": {},
   "source": [
    "#### df.dropna(inplace=True)\n",
    "删除含有缺失值（NaN）的行或列\n",
    "+ inplace\n",
    "  \n",
    "  If False, return a copy. Otherwise, do operation in place and return None."
   ]
  },
  {
   "cell_type": "markdown",
   "id": "00ca6d6e-18e6-4e4e-b171-8dfe23f16bbc",
   "metadata": {},
   "source": [
    "#### 行数、列数\n",
    "+ df.shape[0]\n",
    "+ df.shape[1]"
   ]
  },
  {
   "cell_type": "markdown",
   "id": "bd2d6a53-e490-4403-ab30-271a68671220",
   "metadata": {},
   "source": [
    "# 八、可视化Matplotlib"
   ]
  },
  {
   "cell_type": "markdown",
   "id": "7b5f88f3-d6a7-4077-829d-7a901c02ccc2",
   "metadata": {},
   "source": [
    "## 8.1 绘图步骤\n",
    "1. 创建画板\n",
    "2. 绘制图表\n",
    "3. 配置图例"
   ]
  },
  {
   "cell_type": "markdown",
   "id": "72395a8c-c346-45b9-8c23-6d04fe7c764f",
   "metadata": {},
   "source": [
    "### 8.1.1 创建画板"
   ]
  },
  {
   "cell_type": "markdown",
   "id": "9ad741f2-188b-4915-9341-468425bc3a65",
   "metadata": {},
   "source": [
    "#### 单图 plt.plot"
   ]
  },
  {
   "cell_type": "code",
   "execution_count": null,
   "id": "cc2102c4-121c-407f-a0ec-4d3dad755e03",
   "metadata": {},
   "outputs": [],
   "source": [
    "import matplotlib.pyplot as plt\n",
    "import numpy as np\n",
    "\n",
    "x = np.random.randn(10)\n",
    "# 初始化一张画布.dpi分辨率,figsize画布大小\n",
    "fig = plt.figure(figsize=(6,4), dpi=50) \n",
    "plt.plot(x)\n",
    "plt.show()"
   ]
  },
  {
   "cell_type": "markdown",
   "id": "cd6bb4fa-e4b2-42ec-b15e-26341b99b973",
   "metadata": {},
   "source": [
    "#### 多图"
   ]
  },
  {
   "cell_type": "markdown",
   "id": "2d1cb8ee-ec84-4c18-8f0d-de01cbad0ae1",
   "metadata": {},
   "source": [
    "1. fig.add_subplot"
   ]
  },
  {
   "cell_type": "code",
   "execution_count": null,
   "id": "5954c4f5-f8c6-4783-956d-875373888fba",
   "metadata": {},
   "outputs": [],
   "source": [
    "fig = plt.figure(figsize=(5,5), dpi=50)\n",
    "# 添加子区域\n",
    "ax = fig.add_subplot(2,2,1)\n",
    "ax.plot(x)\n",
    "\n",
    "ax2 = fig.add_subplot(2,2,2)\n",
    "ax2.plot(x+0.99)\n",
    "plt.show()"
   ]
  },
  {
   "cell_type": "code",
   "execution_count": null,
   "id": "ceeeb9b6-fbe0-4228-9f49-d7e7cc0c8aa9",
   "metadata": {},
   "outputs": [],
   "source": [
    "fig = plt.figure(figsize=None, dpi=None)\n",
    "fig.add_subplot(2,2,1)\n",
    "plt.plot(x)\n",
    "plt.show()"
   ]
  },
  {
   "cell_type": "markdown",
   "id": "7459ad68-1d59-4c2f-8150-090c0b49cef0",
   "metadata": {},
   "source": [
    "2. plt.subplot"
   ]
  },
  {
   "cell_type": "code",
   "execution_count": null,
   "id": "df80c8eb-2b1b-46ba-9f3d-d2d60c83cffa",
   "metadata": {},
   "outputs": [],
   "source": [
    "fig = plt.figure(figsize=(5,5), dpi=100)\n",
    "ax = plt.subplot(2,2,1)\n",
    "ax.plot(x)\n",
    "\n",
    "plt.subplot(2,2,2)\n",
    "plt.plot(x)\n",
    "\n",
    "plt.show()"
   ]
  },
  {
   "cell_type": "markdown",
   "id": "48dfaf96-c8b3-45b9-a751-86eb7be578b6",
   "metadata": {},
   "source": [
    "3. plt.subplots"
   ]
  },
  {
   "cell_type": "code",
   "execution_count": null,
   "id": "4ebc4dc1-81f5-4f46-a306-5ba40cba85a2",
   "metadata": {},
   "outputs": [],
   "source": [
    "fig,ax = plt.subplots(3,3)\n",
    "\n",
    "ax[0][0].plot(x)"
   ]
  },
  {
   "cell_type": "markdown",
   "id": "18d6f99a-6c93-4750-8e25-46e45c893591",
   "metadata": {},
   "source": [
    "### 8.1.2 绘制图表"
   ]
  },
  {
   "cell_type": "markdown",
   "id": "76eb0074-766c-4310-9f73-96c7ff6a89a1",
   "metadata": {},
   "source": [
    "#### 折线图 plot"
   ]
  },
  {
   "cell_type": "code",
   "execution_count": null,
   "id": "b52c0d0c-0da2-4cfc-a744-cafc27cbd76f",
   "metadata": {},
   "outputs": [],
   "source": [
    "import numpy as np\n",
    "import matplotlib.pylab as plt\n",
    "import matplotlib\n",
    "\n",
    "# 支持中文,用来正常显示中文标签\n",
    "matplotlib.rcParams['axes.unicode_minus'] = False \n",
    "# 初始化数据\n",
    "x = np.linspace(0,10,5)\n",
    "y = np.random.randn(5)\n",
    "# 预备画图\n",
    "fig = plt.figure(figsize=(2,3), dpi=100)\n",
    "plt.plot(x,y)\n",
    "plt.show()"
   ]
  },
  {
   "cell_type": "markdown",
   "id": "12054fd1-6893-40ea-9854-b1640bedd97c",
   "metadata": {},
   "source": [
    "#### 散点图 scatter"
   ]
  },
  {
   "cell_type": "code",
   "execution_count": null,
   "id": "e440300e-6fe3-4372-97ac-b1126e2e6031",
   "metadata": {
    "scrolled": true
   },
   "outputs": [],
   "source": [
    "import numpy as np\n",
    "import matplotlib.pylab as plt\n",
    "import matplotlib\n",
    "\n",
    "matplotlib.rcParams['axes.unicode_minus'] = False\n",
    "\n",
    "num = 10\n",
    "x = np.random.randn(num)\n",
    "y = np.random.randn(num)\n",
    "\n",
    "# 画图\n",
    "plt.scatter(x,y, marker='o', alpha=0.2,linewidths=10, edgecolors='blue')\n",
    "plt.show()"
   ]
  },
  {
   "cell_type": "markdown",
   "id": "56a9c759-21cd-46a7-845c-a8c6ef1a88cf",
   "metadata": {},
   "source": [
    "#### 条形图或柱状图 bar/barh\n",
    "plt.bar ( x, height, width = 0.8, bottom = None, color)。\n",
    "\n",
    "x为一个标量序列，确定x轴刻度数目；height用来确定y轴的刻度；width为单个直方图的宽度；bottom用来设置y边界坐标轴起点；color用来设置直方图颜色。（只给出一个值表示全部使用该颜色，若赋值颜色列表则会逐一染色，若给出颜色列表数目少于直方图数目则会循环利用）。"
   ]
  },
  {
   "cell_type": "code",
   "execution_count": null,
   "id": "708c1dd7-09ca-41e2-a7c5-6e120beeb195",
   "metadata": {},
   "outputs": [],
   "source": [
    "import matplotlib.pyplot as plt\n",
    "import matplotlib\n",
    "\n",
    "matplotlib.rcParams['axes.unicode_minus'] = False\n",
    "# 柱状图数量\n",
    "# x = range(1,11)\n",
    "x = [1, 2, 3, 4, 5, 6, 7, 8, 9, 10]\n",
    "y = [904.8, 903.9, 857.13, 944.49, 498.72, 416.39, 930.74, 946.14, 953.54, 953.55]\n",
    "x_label = ['20210817', '20210818', '20210819', '20210820', '20210821', '20210822', '20210823', '20210824',  '20210825', '20210826']\n",
    "plt.figure(figsize=(15, 5))\n",
    "plt.bar(x, y, width=0.5, color='r')\n",
    "plt.grid(True, linestyle=':', color='b', alpha=0.6)\n",
    "# 开启网格线\n",
    "plt.xticks(x, x_label)\n",
    "\n",
    "plt.xlabel('Date')\n",
    "plt.ylabel('Passenger_flow')\n",
    "\n",
    "plt.title('daily passenger flow')\n",
    "plt.show()"
   ]
  },
  {
   "cell_type": "markdown",
   "id": "0dab8372-7d20-4f97-bae7-cb6e14017738",
   "metadata": {},
   "source": [
    "#### 饼状图 pie\n",
    "\n",
    "plt.pie( x, labels, explode, startangle, shadow, labeldistance, radius)\n",
    "解释:\n",
    "其中：\n",
    "+ x 为（每一块的）比例，如果sum(x) > 1,会使用sum (x)归一化；\n",
    "+ labels 为（每一块）饼图外侧显示的说明文字；\n",
    "+ explode为（每一块）离开中心距离，默认为0；\n",
    "+ startangle为起始绘制角度，默认图是从x轴正方向逆时针画起，如设定为90，则从y轴正方向画起\n",
    "+ shadow表示在饼图下面画一个阴影。默认值：False，即不画阴影；\n",
    "+ labeldistance为label标记的绘制位置，相对于半径的比例，默认为1.1，如<1则绘制在饼图内侧；\n",
    "+ radius用来控制饼图半径，默认值为1。"
   ]
  },
  {
   "cell_type": "code",
   "execution_count": null,
   "id": "d3ab38d5-e9f4-486e-b756-fe6c6e9efbae",
   "metadata": {},
   "outputs": [],
   "source": [
    "import matplotlib.pyplot as plt\n",
    "\n",
    "plt.rcParams['font.sans-serif'] = ['SimHei']\n",
    "labels = '地铁','常规公交','小汽车','非机动车'\n",
    "size = [10,10,30,50]\n",
    "\n",
    "plt.pie(size, labels=labels, shadow=True, autopct='%1.2f%%', startangle=90)\n",
    "plt.title('占比图')\n",
    "plt.show()"
   ]
  },
  {
   "cell_type": "markdown",
   "id": "b1355f61-7b7e-4aaa-a322-30bb2c0cd3a6",
   "metadata": {},
   "source": [
    "### 8.1.3 配置图例\n",
    "对所绘图形进一步添加图例元素，例如设置标题、坐标轴文字说明等，常用接口如下：\n",
    "\n",
    "1）title: 设置图表标题；\n",
    "\n",
    "2）axis/xlim/ylim：设置相应坐标轴范围，其中axis是对xlim和ylim的集成，接受4个参数分别作为x和y轴的范围参数；\n",
    "\n",
    "3）grid：添加图表网格线（默认为False）；\n",
    "\n",
    "4）legend：在图表中添加label图例参数后，通过legend进行显示；\n",
    "\n",
    "5）xlabel/ylabel：分别用于设置x、y轴标题；\n",
    "\n",
    "6）xticks/yticks：分别用于自定义坐标刻度显示；\n",
    "\n",
    "以上是matplotlib中常用的配置图例，在第二部分介绍几种常见的图表形式时，也有涉及这些配置图例的使用，读者可以通过第二部分的代码熟悉以上常用接口。"
   ]
  },
  {
   "cell_type": "markdown",
   "id": "13991551-6fc1-4331-844c-71daab04817e",
   "metadata": {},
   "source": [
    "## 8.2 个人练习"
   ]
  },
  {
   "cell_type": "code",
   "execution_count": null,
   "id": "db8c5bb3-eb0b-4c00-9551-d6ab0dbe3d88",
   "metadata": {},
   "outputs": [],
   "source": [
    "import matplotlib.pyplot as plt\n",
    "import numpy as np\n",
    "\n",
    "fig,axes = plt.subplots(2,2)\n",
    "\n",
    "# 图1 折线图\n",
    "x1 = np.linspace(-5,5,10)\n",
    "y1 = np.random.randn(10)\n",
    "axes[0][0].plot(x1,y1)\n",
    "\n",
    "# 图2 散点图\n",
    "x2 = np.linspace(-5,5,100)\n",
    "y2 = np.random.randn(100)\n",
    "axes[0][1].scatter(x2,y2,marker='o', alpha=0.2)\n",
    "\n",
    "# 图3 柱状图\n",
    "axes[1][0].bar([1,2,3,4,5],[9.1,9.4,10,9.6,9.2], color='b')\n",
    "\n",
    "# 图4 饼状图\n",
    "axes[1][1].pie(x=[10,10,30,50,30], labels=list('ABCDE'), autopct='%.0f%%',explode=[0, 0.2, 0, 0,0.2])\n",
    "\n",
    "plt.show()"
   ]
  },
  {
   "cell_type": "markdown",
   "id": "a691297d-2599-4615-ba15-488161b10667",
   "metadata": {},
   "source": [
    "# 七、SciPy\n",
    "\n",
    "## 7.1 简介\n",
    "SciPy内部的模块包括优化模块、线性代数模块、统计模块、傅里叶变化模块、积分模块、信号处理模块、图像处理模块、稀疏矩阵模块、插值模块等。适合做有关数学、数学运算的问题。"
   ]
  },
  {
   "cell_type": "markdown",
   "id": "5c4b7837-0b9d-4542-8ebb-ee20cb7c0293",
   "metadata": {},
   "source": [
    "## 7.2 拟合与优化 optimize"
   ]
  },
  {
   "cell_type": "markdown",
   "id": "c27e8bb9-4f84-4a99-91be-a11fcbde2faa",
   "metadata": {},
   "source": [
    "### 7.2.1 求最小值\n",
    "\n",
    "+ optimize.bruce\n",
    "+ optimize.leastsq"
   ]
  },
  {
   "cell_type": "code",
   "execution_count": null,
   "id": "da654e2e-62af-4f1a-aded-0e44deebda8f",
   "metadata": {},
   "outputs": [],
   "source": [
    "def f(x):\n",
    "    return 0.01*(x**4) + 20*np.sin(x)\n",
    "\n",
    "# 图形的大小，宽度为 10 英寸，高度为 5 英寸。\n",
    "plt.figure(figsize=(10,5))\n",
    "x = np.arange(-15,15,0.1)\n",
    "\n",
    "plt.xlabel = 'x'\n",
    "plt.ylabel = 'y'\n",
    "plt.title('optimize')\n",
    "# 'b-' 表示曲线的颜色为蓝色（b），线型为实线（-）。\n",
    "plt.plot(x,f(x),'b-',label='$f(x)=x^4/100+20sin(x)$')\n",
    "\n",
    "a = f(-1.3)\n",
    "# annotate 函数用于在图形上添加注释，画箭头\n",
    "# xy：表示箭头指的位置。xytext：表示“min”的位置\n",
    "plt.annotate('min',xy=(-1.3,a), xytext=(3,40), arrowprops=dict(facecolor='black',shrink=0.05))\n",
    "plt.legend() # 显示图例\n",
    "plt.show()"
   ]
  },
  {
   "cell_type": "code",
   "execution_count": null,
   "id": "38895ce5-e4d1-4643-ac9b-63d39cedd0bc",
   "metadata": {},
   "outputs": [],
   "source": [
    "# 拟牛顿法 - 局部最优\n",
    "res = optimize.fmin_bfgs(f,0) # 0为初始值\n",
    "print(res)\n",
    "# 暴力求解 - 最优\n",
    "tmp = (-15,15,0.1) # 起始值、结束值以及步长\n",
    "global_minX = optimize.brute(f,(tmp,))\n",
    "print(global_minX)"
   ]
  },
  {
   "cell_type": "markdown",
   "id": "28d833d6-3851-4d9f-996f-151b19dfcc7e",
   "metadata": {},
   "source": [
    "### 7.2.2 曲线拟合"
   ]
  },
  {
   "cell_type": "markdown",
   "id": "cd305333-d043-4bc0-bcaf-5ea50a5d196d",
   "metadata": {},
   "source": [
    "最小二乘法拟合optimize.leastsq\n",
    "\n",
    "\n",
    "scipy.optimize.leastsq(func, x0, args=(), Dfun=None, full_output=0, col_deriv=0, ftol=1.49012e-08, xtol=1.49012e-08, gtol=0.0, maxfev=0, epsfcn=None, factor=100, diag=None)\n",
    "\n",
    "找到一组参数，使得给定的残差函数（即观测值与模型预测值之间的差异）的平方和最小。\n",
    "\n",
    "参数说明：\n",
    "+ func：残差函数，它接受待优化的参数和其他额外参数（如果有）作为输入，并返回残差数组。\n",
    "+ x0：初始猜测值，是一个一维数组，包含了待优化参数的初始估计值。\n",
    "+ args：传递给残差函数 func 的额外参数，是一个元组。\n"
   ]
  },
  {
   "cell_type": "code",
   "execution_count": null,
   "id": "2e494ad7-d8f2-440a-8020-558d37325a11",
   "metadata": {},
   "outputs": [],
   "source": [
    "import scipy.optimize as optimize\n",
    "\n",
    "#定义拟合函数图形 asin(2kPIx+b)\n",
    "def func(x,m):\n",
    "    a,K,b = m\n",
    "    return a*np.sin(2*K*np.pi*x+b)\n",
    " \n",
    "#定义误差函数\n",
    "def error(m,x,y):\n",
    "    return y-func(x,m)\n",
    "\n",
    "#生成训练数据\n",
    "#给出参数的初始值\n",
    "p = [20,0.5,np.pi/4]\n",
    "a,K,b = p\n",
    "x = np.linspace(0,2*np.pi,1000) # 划定x范围 0-2pai，生成指定数量的等间距数值\n",
    "\n",
    "#随机指定参数 \n",
    "y = func(x,[a,K,b]) # 真实值\n",
    "#randn(m)从标准正态分布中返回m个值，在本例作为噪声\n",
    "y_ = y + 2*np.random.randn(len(x)) # 真实+噪声\n",
    " \n",
    "#进行参数估计\n",
    "Para = optimize.leastsq(error,p,args=(x,y_))\n",
    "a,K,b = Para[0]\n",
    "print('a=',a, 'K=',K,'b=',b)\n",
    "\n",
    "# 图形可视化\n",
    "plt.figure(figsize=(20, 8))\n",
    "ax1 = plt.subplot()\n",
    "# 将当前的绘图活动切换到指定的子图上\n",
    "plt.sca(ax1)\n",
    "# 绘制散点图\n",
    "plt.scatter(x, y_, color='gray', label='Sample Points', linewidth=3)\n",
    "plt.xlabel='x'\n",
    "plt.xlabel='y'\n",
    "y = func(x, p)\n",
    "plt.plot(x, y, color='red', label='Target line', linewidth=2)\n",
    "# 显示图例和图形\n",
    "plt.legend()\n",
    "plt.show()"
   ]
  },
  {
   "cell_type": "markdown",
   "id": "ce9733eb-bb5f-4a8b-aeb5-5065114e00c0",
   "metadata": {},
   "source": [
    "## 7.3 线性代数 linalg\n",
    "与numpy类似"
   ]
  },
  {
   "cell_type": "code",
   "execution_count": null,
   "id": "e4c39d6c-18c5-4f7d-8af1-98fb7ef452eb",
   "metadata": {},
   "outputs": [],
   "source": [
    "from scipy import linalg\n",
    "\n",
    "arr = np.array([[9,2,8],[2,5,6],[5,1,3]])\n",
    "inv = linalg.inv(arr)\n",
    "\n",
    "inv"
   ]
  },
  {
   "cell_type": "markdown",
   "id": "62aeebc0-fa0f-4b4d-9344-81ced25e7a06",
   "metadata": {},
   "source": [
    "## 7.4 统计模块\n",
    "### 直方图和概率密度函数\n",
    "\n",
    "stats.norm.pdf(x,loc,scale)实现正态(高斯)分布。其中，\n",
    "+ loc表示均值\n",
    "+ scale表示方差"
   ]
  },
  {
   "cell_type": "code",
   "execution_count": null,
   "id": "1f2ac1de-fe86-4f60-adef-a345318bdc84",
   "metadata": {},
   "outputs": [],
   "source": [
    "import matplotlib.pyplot as plt\n",
    "from scipy import stats\n",
    "import numpy as np\n",
    "\n",
    "x = np.linspace(-10,10,100)\n",
    "plt.rcParams['font.sans-serif'] = ['SimHei']\n",
    "matplotlib.rcParams['axes.unicode_minus'] = False\n",
    "\n",
    "y1 = stats.norm.pdf(x,0,1)\n",
    "y2 = stats.norm.pdf(x,1,3)\n",
    "y3 = stats.norm.pdf(x,-5,3)\n",
    "\n",
    "plt.figure(figsize=(10,5), dpi=100)\n",
    "plt.plot(x,y1, color='red', label='loc=0, scale=1')\n",
    "plt.plot(x,y2, color='blue',label='loc=1, scale=3')\n",
    "plt.plot(x,y3, color='yellow',label='loc=-5, scale=3')\n",
    "\n",
    "plt.legend()\n",
    "plt.show()"
   ]
  },
  {
   "cell_type": "markdown",
   "id": "acf32bbb-4053-414b-a690-218d31fecef5",
   "metadata": {},
   "source": [
    "### 统计检验\n",
    "\n",
    "如t分布检验。如果 p 值小于我们的阈值，那么我们就有证据反对总体均值相等的零假设。\n",
    "\n",
    "1. statistic越大，越显著不同。\n",
    "\n",
    "2. 对于pvalue：\n",
    "决策规则\n",
    "一般会事先设定一个显著性水平 α，常用的值为 0.05 或者 0.01。\n",
    "决策规则如下：\n",
    "+ p 值小于等于α：在这种情况下，拒绝原假设 H0，接受备择假设H1，意味着两个总体的均值存在显著差异。\n",
    "+ p 值大于α：此时不能拒绝原假设H0，也就是说没有足够的证据表明两个总体的均值存在显著差异。"
   ]
  },
  {
   "cell_type": "code",
   "execution_count": null,
   "id": "7f990be6-bf28-42fe-b98e-57ae659d6b6f",
   "metadata": {},
   "outputs": [],
   "source": [
    "import matplotlib.pyplot as plt\n",
    "from scipy import stats\n",
    "a = np.random.normal(4,2,1000)\n",
    "b = np.random.normal(1,2,1000)\n",
    "\n",
    "plt.plot(a,color='red')\n",
    "plt.plot(b,color='green')\n",
    "\n",
    "stats.ttest_ind(a,b)"
   ]
  },
  {
   "cell_type": "markdown",
   "id": "e69b2cd9-1a71-4d74-852e-f0f97f6ad79b",
   "metadata": {},
   "source": [
    "# 八、机器学习Scikit-learn"
   ]
  },
  {
   "cell_type": "markdown",
   "id": "2883d770-157d-4c2c-9700-a66a301aff15",
   "metadata": {},
   "source": [
    "## 8.1 SVM分类\n",
    "\n",
    "最终得到的决策函数为：f(x)=wTx+b。其中：\n",
    "+ w = coef_\n",
    "+ b = intercept_"
   ]
  },
  {
   "cell_type": "code",
   "execution_count": null,
   "id": "e43624e9-dd34-4ae1-81a5-4ec58062e95c",
   "metadata": {},
   "outputs": [],
   "source": [
    "import numpy as np\n",
    "import pandas as pd\n",
    "import matplotlib.pyplot as plt\n",
    "from sklearn import svm\n",
    "\n",
    "# 正类\n",
    "p = np.random.normal(2, 1, (200, 2))\n",
    "# 负类\n",
    "f = np.random.normal(0, 1, (200, 2))\n",
    "# 转为dataframe\n",
    "df_p = pd.DataFrame(p, columns=list('XY'))\n",
    "df_p['Z'] = 1\n",
    "df_f = pd.DataFrame(f, columns=list('XY'))\n",
    "df_f['Z'] = 0\n",
    "# 合并f和p\n",
    "con = pd.concat([df_p, df_f], axis=0)\n",
    "# 重置索引 0-199 0-199 --> 0-399\n",
    "con.reset_index(inplace=True, drop=True)\n",
    "\n",
    "# 区分测试集、训练集\n",
    "test_num = 150\n",
    "trainData = con[0:-test_num] # 训练集必须包含2个及以上分类\n",
    "testData = con[-test_num:]\n",
    "\n",
    "# 选择训练集特征和标签\n",
    "X = trainData[['X','Y']]\n",
    "Z = trainData['Z']\n",
    "X_test = testData[['X','Y']]\n",
    "Z_test = testData['Z']\n",
    "# SCV分类器\n",
    "clf = svm.SVC(kernel='linear')\n",
    "# 训练\n",
    "clf.fit(X,Z)\n",
    "# 得分\n",
    "clf.score(X,Z)\n",
    "\n",
    "print(f'系数：{clf.coef_}, {clf.intercept_}')\n",
    "print(f'score:{clf.score(X_test,Z_test)}')"
   ]
  },
  {
   "cell_type": "markdown",
   "id": "618f551a-f8e4-4a5e-9d39-cd28c626efa3",
   "metadata": {},
   "source": [
    "## 8.2 随机森林回归"
   ]
  },
  {
   "cell_type": "code",
   "execution_count": 1,
   "id": "139d740f-251e-42c4-b04b-56025020c253",
   "metadata": {},
   "outputs": [
    {
     "data": {
      "image/png": "[encoded data removed]",
      "text/plain": [
       "<Figure size 1000x500 with 1 Axes>"
      ]
     },
     "metadata": {},
     "output_type": "display_data"
    },
    {
     "data": {
      "image/png": "[encoded data removed]",
      "text/plain": [
       "<Figure size 1500x500 with 1 Axes>"
      ]
     },
     "metadata": {},
     "output_type": "display_data"
    },
    {
     "name": "stdout",
     "output_type": "stream",
     "text": [
      "score: 0.9758139051758481\n"
     ]
    }
   ],
   "source": [
    "import pandas as pd\n",
    "import matplotlib.pyplot as plt\n",
    "from sklearn.ensemble import RandomForestRegressor\n",
    "\n",
    "# 读取文件\n",
    "df = pd.read_csv('./scikit-learn/xizhimen.csv', encoding='gbk', parse_dates=True)\n",
    "# 画图\n",
    "plt.figure(figsize=(10,5))\n",
    "plt.grid(True)\n",
    "plt.plot(df.iloc[:,0], df.iloc[:,1], label=\"XIZHIMEN Station\")\n",
    "plt.legend()\n",
    "plt.show()\n",
    "\n",
    "# 新增前一天客流数据\n",
    "df['pre_Date_flow'] = df.loc[:,['p_flow']].shift(1)\n",
    "# 新增前5日平均客流数据\n",
    "df['mean5'] = df.loc[:,['p_flow']].rolling(5).mean()\n",
    "# 新增前10日平均客流数据\n",
    "df['mean10'] = df.loc[:,['p_flow']].rolling(10).mean()\n",
    "# 删除存在NaN的行\n",
    "df.dropna(inplace=True)\n",
    "\n",
    "X = df[['pre_Date_flow','mean5','mean10']]\n",
    "Y = df['p_flow']\n",
    "# 更改索引\n",
    "X.index = range(X.shape[0])\n",
    "# display(X)\n",
    "# 设置训练集和测试集\n",
    "num = int(X.shape[0] * 0.8)\n",
    "X_train, X_test = X[:num], X[num:]\n",
    "Y_train, Y_test = Y[:num], Y[num:]\n",
    "\n",
    "# 预测 n_estimators为树的数量\n",
    "rfr = RandomForestRegressor(n_estimators=15)\n",
    "rfr.fit(X_train,Y_train)\n",
    "score = rfr.score(X_test,Y_test)\n",
    "res = rfr.predict(X_test)\n",
    "\n",
    "# 画图\n",
    "plt.figure(figsize=[15,5])\n",
    "plt.title('The res of prediction')\n",
    "plt.plot(Y_test.ravel(), label='real') # 扁平化Y_test，处理序号问题\n",
    "plt.plot(res, label='predict')\n",
    "plt.legend()\n",
    "plt.show()\n",
    "\n",
    "print(f'score: {score}')"
   ]
  },
  {
   "cell_type": "markdown",
   "id": "37484c80-047f-4790-a5f7-6bb910b72bbc",
   "metadata": {},
   "source": [
    "## 8.3 K-means聚类"
   ]
  },
  {
   "cell_type": "code",
   "execution_count": 17,
   "id": "22bba7ed-bcd1-4c28-bab4-b4a556fa829a",
   "metadata": {},
   "outputs": [
    {
     "name": "stderr",
     "output_type": "stream",
     "text": [
      "F:\\Anaconda\\path\\envs\\py38\\lib\\site-packages\\sklearn\\cluster\\_kmeans.py:1440: UserWarning: KMeans is known to have a memory leak on Windows with MKL, when there are less chunks than available threads. You can avoid it by setting the environment variable OMP_NUM_THREADS=2.\n",
      "  warnings.warn(\n",
      "F:\\Anaconda\\path\\envs\\py38\\lib\\site-packages\\sklearn\\cluster\\_kmeans.py:1440: UserWarning: KMeans is known to have a memory leak on Windows with MKL, when there are less chunks than available threads. You can avoid it by setting the environment variable OMP_NUM_THREADS=2.\n",
      "  warnings.warn(\n",
      "F:\\Anaconda\\path\\envs\\py38\\lib\\site-packages\\sklearn\\cluster\\_kmeans.py:1440: UserWarning: KMeans is known to have a memory leak on Windows with MKL, when there are less chunks than available threads. You can avoid it by setting the environment variable OMP_NUM_THREADS=2.\n",
      "  warnings.warn(\n",
      "F:\\Anaconda\\path\\envs\\py38\\lib\\site-packages\\sklearn\\cluster\\_kmeans.py:1440: UserWarning: KMeans is known to have a memory leak on Windows with MKL, when there are less chunks than available threads. You can avoid it by setting the environment variable OMP_NUM_THREADS=2.\n",
      "  warnings.warn(\n",
      "F:\\Anaconda\\path\\envs\\py38\\lib\\site-packages\\sklearn\\cluster\\_kmeans.py:1440: UserWarning: KMeans is known to have a memory leak on Windows with MKL, when there are less chunks than available threads. You can avoid it by setting the environment variable OMP_NUM_THREADS=2.\n",
      "  warnings.warn(\n",
      "F:\\Anaconda\\path\\envs\\py38\\lib\\site-packages\\sklearn\\cluster\\_kmeans.py:1440: UserWarning: KMeans is known to have a memory leak on Windows with MKL, when there are less chunks than available threads. You can avoid it by setting the environment variable OMP_NUM_THREADS=2.\n",
      "  warnings.warn(\n",
      "F:\\Anaconda\\path\\envs\\py38\\lib\\site-packages\\sklearn\\cluster\\_kmeans.py:1440: UserWarning: KMeans is known to have a memory leak on Windows with MKL, when there are less chunks than available threads. You can avoid it by setting the environment variable OMP_NUM_THREADS=2.\n",
      "  warnings.warn(\n",
      "F:\\Anaconda\\path\\envs\\py38\\lib\\site-packages\\sklearn\\cluster\\_kmeans.py:1440: UserWarning: KMeans is known to have a memory leak on Windows with MKL, when there are less chunks than available threads. You can avoid it by setting the environment variable OMP_NUM_THREADS=2.\n",
      "  warnings.warn(\n",
      "F:\\Anaconda\\path\\envs\\py38\\lib\\site-packages\\sklearn\\cluster\\_kmeans.py:1440: UserWarning: KMeans is known to have a memory leak on Windows with MKL, when there are less chunks than available threads. You can avoid it by setting the environment variable OMP_NUM_THREADS=2.\n",
      "  warnings.warn(\n",
      "F:\\Anaconda\\path\\envs\\py38\\lib\\site-packages\\sklearn\\cluster\\_kmeans.py:1440: UserWarning: KMeans is known to have a memory leak on Windows with MKL, when there are less chunks than available threads. You can avoid it by setting the environment variable OMP_NUM_THREADS=2.\n",
      "  warnings.warn(\n",
      "F:\\Anaconda\\path\\envs\\py38\\lib\\site-packages\\sklearn\\cluster\\_kmeans.py:1440: UserWarning: KMeans is known to have a memory leak on Windows with MKL, when there are less chunks than available threads. You can avoid it by setting the environment variable OMP_NUM_THREADS=2.\n",
      "  warnings.warn(\n",
      "F:\\Anaconda\\path\\envs\\py38\\lib\\site-packages\\sklearn\\cluster\\_kmeans.py:1440: UserWarning: KMeans is known to have a memory leak on Windows with MKL, when there are less chunks than available threads. You can avoid it by setting the environment variable OMP_NUM_THREADS=2.\n",
      "  warnings.warn(\n",
      "F:\\Anaconda\\path\\envs\\py38\\lib\\site-packages\\sklearn\\cluster\\_kmeans.py:1440: UserWarning: KMeans is known to have a memory leak on Windows with MKL, when there are less chunks than available threads. You can avoid it by setting the environment variable OMP_NUM_THREADS=2.\n",
      "  warnings.warn(\n",
      "F:\\Anaconda\\path\\envs\\py38\\lib\\site-packages\\sklearn\\cluster\\_kmeans.py:1440: UserWarning: KMeans is known to have a memory leak on Windows with MKL, when there are less chunks than available threads. You can avoid it by setting the environment variable OMP_NUM_THREADS=2.\n",
      "  warnings.warn(\n",
      "F:\\Anaconda\\path\\envs\\py38\\lib\\site-packages\\sklearn\\cluster\\_kmeans.py:1440: UserWarning: KMeans is known to have a memory leak on Windows with MKL, when there are less chunks than available threads. You can avoid it by setting the environment variable OMP_NUM_THREADS=2.\n",
      "  warnings.warn(\n"
     ]
    },
    {
     "data": {
      "image/png": "[encoded data removed]",
      "text/plain": [
       "<Figure size 640x480 with 1 Axes>"
      ]
     },
     "metadata": {},
     "output_type": "display_data"
    }
   ],
   "source": [
    "import matplotlib.pyplot as plt\n",
    "import pandas as pd\n",
    "from sklearn.cluster import KMeans\n",
    "from sklearn import metrics\n",
    "\n",
    "df = pd.read_csv('./scikit-learn/in_15min.csv',encoding='gbk')\n",
    "df.dropna(inplace=True)\n",
    "df.drop('Station_name',axis=1,inplace=True)\n",
    "\n",
    "# 肘方法看K值（肘的位置，就是预估的分类树）\n",
    "d=[]\n",
    "for i in range(1,16):\n",
    "    km = KMeans(n_clusters=i, init='k-means++', n_init=10, max_iter=300, random_state=0)\n",
    "    km.fit(df)\n",
    "    d.append(km.inertia_) # 记录簇内误差平方和\n",
    "\n",
    "plt.plot(d, marker='o')\n",
    "plt.xlabel('number of clusters')\n",
    "plt.ylabel('distortions')\n",
    "plt.show()"
   ]
  },
  {
   "cell_type": "markdown",
   "id": "dde738a5-d95b-4ec4-8554-1365a545adcd",
   "metadata": {},
   "source": [
    "显然，肘部位即k是6或7。"
   ]
  },
  {
   "cell_type": "code",
   "execution_count": 24,
   "id": "7f6ea537-1ad3-4844-80a6-4185a63d5287",
   "metadata": {},
   "outputs": [
    {
     "name": "stderr",
     "output_type": "stream",
     "text": [
      "F:\\Anaconda\\path\\envs\\py38\\lib\\site-packages\\sklearn\\cluster\\_kmeans.py:1416: FutureWarning: The default value of `n_init` will change from 10 to 'auto' in 1.4. Set the value of `n_init` explicitly to suppress the warning\n",
      "  super()._check_params_vs_input(X, default_n_init=10)\n",
      "F:\\Anaconda\\path\\envs\\py38\\lib\\site-packages\\sklearn\\cluster\\_kmeans.py:1440: UserWarning: KMeans is known to have a memory leak on Windows with MKL, when there are less chunks than available threads. You can avoid it by setting the environment variable OMP_NUM_THREADS=2.\n",
      "  warnings.warn(\n"
     ]
    },
    {
     "name": "stdout",
     "output_type": "stream",
     "text": [
      "[4 3 3 3 3 3 5 5 5 5 5 2 2 1 1 5 2 2 2 6 6 2 3 1 3 3 3 1 3 3 1 3 1 3 6 5 2\n",
      " 3 5 1 1 2 5 6 2 6 5 5 5 2 3 1 1 1 1 1 3 1 1 3 3 3 3 3 2 3 1 5 1 5 1 5 5 5\n",
      " 5 2 2 5 1 1 3 3 1 1 1 1 1 1 1 1 1 3 1 1 4 3 3 1 5 5 5 1 5 5 5 5 2 5 5 3 4\n",
      " 3 4 4 3 1 5 5 5 1 5 2 2 5 3 3 3 3 3 3 3 1 3 1 1 1 2 1 3 5 1 1 1 5 1 2 5 1\n",
      " 1 1 1 1 1 1 1 1 5 1 1 5 1 1 3 1 3 4 4 1 1 3 1 1 1 1 1 1 1 3 1 1 1 5 1 1 1\n",
      " 1 1 3 5 1 1 5 5 5 1 1 1 1 3 1 1 3 3 1 3 1 4 3 3 2 2 1 2 2 5 3 5 5 5 2 2 5\n",
      " 2 5 1 5 3 4 4 6 3 2 5 1 1 1 1 1 1 1 1 1 1 1 2 5 5 5 5 1 1 1 1 1 1 1 1 1 1\n",
      " 1 1 1 1 1 3 1 3 1 3 3 1 1 1 1 1 1]\n",
      "轮廓系数：0.3834164912580164, 得分：201.18789879013613\n"
     ]
    }
   ],
   "source": [
    "model_kmeans = KMeans(n_clusters=6, random_state=0)\n",
    "model_kmeans.fit(df)\n",
    "\n",
    "yPre = model_kmeans.predict(df)\n",
    "print(yPre+1)\n",
    "\n",
    "# 评价指标\n",
    "silhouette_s = metrics.silhouette_score(df, yPre, metric = 'euclidean') # 欧氏距离计算样本间的距离\n",
    "calinski_harabaz_s = metrics.calinski_harabasz_score(x_data, yPre)\n",
    "\n",
    "print(f'轮廓系数：{silhouette_s}, 得分：{calinski_harabaz_s}')"
   ]
  },
  {
   "cell_type": "markdown",
   "id": "71fde76a-2a08-4f06-bb51-6e27f746062b",
   "metadata": {},
   "source": [
    "1. silhouette_score：轮廓系数（Silhouette Coefficient）\n",
    "作用：评价聚类的紧密度和分离度。值的范围在 [-1, 1] 之间。\n",
    "    + 越接近 1，说明每个样本更紧密地聚在自己簇里，且和别的簇更分开（聚类效果好）。\n",
    "    \n",
    "    + 接近 0，说明样本可能在两个簇的边界上（聚类模糊）。\n",
    "    \n",
    "    + 小于 0，说明聚错了（样本可能被分到错误的簇）。\n",
    "  \n",
    "2. calinski_harabasz_score：卡林斯基-哈拉巴兹指数（方差比准则）\n",
    "作用：评价聚类质量的，衡量的是簇间距离与簇内距离的比例。值越大越好：簇内越紧密、簇间越分开。"
   ]
  },
  {
   "cell_type": "markdown",
   "id": "6d7a9749-a255-4006-86c5-9f0e4f1e2936",
   "metadata": {},
   "source": [
    "# 其他"
   ]
  },
  {
   "cell_type": "markdown",
   "id": "6e9bc912-a5a0-40c3-ba80-542f3182b7fe",
   "metadata": {},
   "source": [
    "## 星号`*`、`**`的用途"
   ]
  },
  {
   "cell_type": "markdown",
   "id": "9b212282-8e54-46d5-af4b-352437d859b8",
   "metadata": {},
   "source": [
    "1. `*`号\n",
    "   + 乘法\n",
    "   + 解包list、tuple、str\n",
    "   + 定义函数时，收集参数\n",
    "   + 调用函数时，分配参数\n",
    "2. `**`号\n",
    "   + 幂\n",
    "   + 解包dict\n",
    "   + 定义函数时，关键字参数\n",
    "   + 调用函数时，分配参数"
   ]
  },
  {
   "cell_type": "markdown",
   "id": "0546eda2-3b2f-4e9d-8dda-6e5a741163f7",
   "metadata": {},
   "source": [
    "## Pandas与Numpy异同 \n",
    "    1）Numpy是数值计算的扩展包，能够高效处理N维数组，即处理高维数组或矩阵时会方便。Pandas是python的一个数据分析包，主要是做数据处理用的，以处理二维表格为主。\n",
    "    \n",
    "    2）Numpy只能存储相同类型的ndarray，Pandas能处理不同类型的数据，例如二维表格中不同列可以是不同类型的数据，一列为整数一列为字符串。\n",
    "    \n",
    "    3）Numpy支持并行计算，所以TensorFlow2.0、PyTorch都能和numpy能无缝转换。Numpy底层使用C语言编写，效率远高于纯Python代码。\n",
    "    \n",
    "    4）Pansdas是基于Numpy的一种工具,该工具是为了解决数据分析任务而创建的。Pandas提供了大量快速便捷地处理数据的函数和方法。\n",
    "    \n",
    "    5）Pandas和Numpy可以相互转换，DataFrame转化为ndarray只需要使用df.values即可，ndarray转化为DataFrame使用pd.DataFrame(array)即可。\n"
   ]
  }
 ],
 "metadata": {
  "kernelspec": {
   "display_name": "Python [conda env:py38]",
   "language": "python",
   "name": "conda-env-py38-py"
  },
  "language_info": {
   "codemirror_mode": {
    "name": "ipython",
    "version": 3
   },
   "file_extension": ".py",
   "mimetype": "text/x-python",
   "name": "python",
   "nbconvert_exporter": "python",
   "pygments_lexer": "ipython3",
   "version": "3.8.20"
  }
 },
 "nbformat": 4,
 "nbformat_minor": 5
}
